{
 "cells": [
  {
   "cell_type": "markdown",
   "id": "7ee8afc9-c374-4e2c-9035-b21916dec7d2",
   "metadata": {
    "tags": []
   },
   "source": [
    "# Predicting the Likelihood of Heart Disease within a Patient"
   ]
  },
  {
   "cell_type": "markdown",
   "id": "9f4219bd-6ca3-4c25-a413-93cfecbd74a7",
   "metadata": {},
   "source": [
    "## Introduction\n",
    "Heart disease is a medical condition that affects the heart and blood vessels, preventing proper blood circulation. We plan to address the question: “Is there a correlation between the variables in the dataset outcome of whether individuals have heart disease?” The dataset we selected contains the recorded health variables of various patients in Cleveland that are either tested positive or negative for heart disease. "
   ]
  },
  {
   "cell_type": "markdown",
   "id": "419b4369-7dc6-42f4-a4b9-36c93c03c272",
   "metadata": {},
   "source": [
    "## Methods & Results\n"
   ]
  },
  {
   "cell_type": "code",
   "execution_count": 1,
   "id": "f6894aba-eb23-4eb8-a2d2-b32ced82ad47",
   "metadata": {},
   "outputs": [
    {
     "name": "stderr",
     "output_type": "stream",
     "text": [
      "── \u001b[1mAttaching packages\u001b[22m ────────────────────────────────────── tidymodels 1.0.0 ──\n",
      "\n",
      "\u001b[32m✔\u001b[39m \u001b[34mbroom       \u001b[39m 1.0.0     \u001b[32m✔\u001b[39m \u001b[34mrecipes     \u001b[39m 1.0.1\n",
      "\u001b[32m✔\u001b[39m \u001b[34mdials       \u001b[39m 1.0.0     \u001b[32m✔\u001b[39m \u001b[34mrsample     \u001b[39m 1.0.0\n",
      "\u001b[32m✔\u001b[39m \u001b[34mdplyr       \u001b[39m 1.0.9     \u001b[32m✔\u001b[39m \u001b[34mtibble      \u001b[39m 3.1.7\n",
      "\u001b[32m✔\u001b[39m \u001b[34mggplot2     \u001b[39m 3.3.6     \u001b[32m✔\u001b[39m \u001b[34mtidyr       \u001b[39m 1.2.0\n",
      "\u001b[32m✔\u001b[39m \u001b[34minfer       \u001b[39m 1.0.2     \u001b[32m✔\u001b[39m \u001b[34mtune        \u001b[39m 1.0.0\n",
      "\u001b[32m✔\u001b[39m \u001b[34mmodeldata   \u001b[39m 1.0.0     \u001b[32m✔\u001b[39m \u001b[34mworkflows   \u001b[39m 1.0.0\n",
      "\u001b[32m✔\u001b[39m \u001b[34mparsnip     \u001b[39m 1.0.0     \u001b[32m✔\u001b[39m \u001b[34mworkflowsets\u001b[39m 1.0.0\n",
      "\u001b[32m✔\u001b[39m \u001b[34mpurrr       \u001b[39m 0.3.4     \u001b[32m✔\u001b[39m \u001b[34myardstick   \u001b[39m 1.0.0\n",
      "\n",
      "── \u001b[1mConflicts\u001b[22m ───────────────────────────────────────── tidymodels_conflicts() ──\n",
      "\u001b[31m✖\u001b[39m \u001b[34mpurrr\u001b[39m::\u001b[32mdiscard()\u001b[39m masks \u001b[34mscales\u001b[39m::discard()\n",
      "\u001b[31m✖\u001b[39m \u001b[34mdplyr\u001b[39m::\u001b[32mfilter()\u001b[39m  masks \u001b[34mstats\u001b[39m::filter()\n",
      "\u001b[31m✖\u001b[39m \u001b[34mdplyr\u001b[39m::\u001b[32mlag()\u001b[39m     masks \u001b[34mstats\u001b[39m::lag()\n",
      "\u001b[31m✖\u001b[39m \u001b[34mrecipes\u001b[39m::\u001b[32mstep()\u001b[39m  masks \u001b[34mstats\u001b[39m::step()\n",
      "\u001b[34m•\u001b[39m Dig deeper into tidy modeling with R at \u001b[32mhttps://www.tmwr.org\u001b[39m\n",
      "\n",
      "── \u001b[1mAttaching packages\u001b[22m ─────────────────────────────────────── tidyverse 1.3.1 ──\n",
      "\n",
      "\u001b[32m✔\u001b[39m \u001b[34mreadr  \u001b[39m 2.1.2     \u001b[32m✔\u001b[39m \u001b[34mforcats\u001b[39m 0.5.1\n",
      "\u001b[32m✔\u001b[39m \u001b[34mstringr\u001b[39m 1.4.0     \n",
      "\n",
      "── \u001b[1mConflicts\u001b[22m ────────────────────────────────────────── tidyverse_conflicts() ──\n",
      "\u001b[31m✖\u001b[39m \u001b[34mreadr\u001b[39m::\u001b[32mcol_factor()\u001b[39m masks \u001b[34mscales\u001b[39m::col_factor()\n",
      "\u001b[31m✖\u001b[39m \u001b[34mpurrr\u001b[39m::\u001b[32mdiscard()\u001b[39m    masks \u001b[34mscales\u001b[39m::discard()\n",
      "\u001b[31m✖\u001b[39m \u001b[34mdplyr\u001b[39m::\u001b[32mfilter()\u001b[39m     masks \u001b[34mstats\u001b[39m::filter()\n",
      "\u001b[31m✖\u001b[39m \u001b[34mstringr\u001b[39m::\u001b[32mfixed()\u001b[39m    masks \u001b[34mrecipes\u001b[39m::fixed()\n",
      "\u001b[31m✖\u001b[39m \u001b[34mdplyr\u001b[39m::\u001b[32mlag()\u001b[39m        masks \u001b[34mstats\u001b[39m::lag()\n",
      "\u001b[31m✖\u001b[39m \u001b[34mreadr\u001b[39m::\u001b[32mspec()\u001b[39m       masks \u001b[34myardstick\u001b[39m::spec()\n",
      "\n",
      "\n",
      "Attaching package: ‘rvest’\n",
      "\n",
      "\n",
      "The following object is masked from ‘package:readr’:\n",
      "\n",
      "    guess_encoding\n",
      "\n",
      "\n"
     ]
    }
   ],
   "source": [
    "#loading all packages\n",
    "library(tidymodels)\n",
    "library(tidyverse)\n",
    "library(repr)\n",
    "library(rvest)\n",
    "library(readxl)\n",
    "library(RColorBrewer)\n",
    "library(cowplot)\n",
    "     "
   ]
  },
  {
   "cell_type": "code",
   "execution_count": 21,
   "id": "5b462dc7-7bff-4f55-b816-e0628d826c5f",
   "metadata": {},
   "outputs": [
    {
     "name": "stderr",
     "output_type": "stream",
     "text": [
      "\u001b[1mRows: \u001b[22m\u001b[34m303\u001b[39m \u001b[1mColumns: \u001b[22m\u001b[34m14\u001b[39m\n",
      "\u001b[36m──\u001b[39m \u001b[1mColumn specification\u001b[22m \u001b[36m────────────────────────────────────────────────────────\u001b[39m\n",
      "\u001b[1mDelimiter:\u001b[22m \",\"\n",
      "\u001b[31mchr\u001b[39m  (2): X12, X13\n",
      "\u001b[32mdbl\u001b[39m (12): X1, X2, X3, X4, X5, X6, X7, X8, X9, X10, X11, X14\n",
      "\n",
      "\u001b[36mℹ\u001b[39m Use `spec()` to retrieve the full column specification for this data.\n",
      "\u001b[36mℹ\u001b[39m Specify the column types or set `show_col_types = FALSE` to quiet this message.\n"
     ]
    }
   ],
   "source": [
    "#read csv file from UCI\n",
    "url <- \"https://archive.ics.uci.edu/ml/machine-learning-databases/heart-disease/processed.cleveland.data\"\n",
    "heart_data <- read_csv(url, col_names = FALSE)"
   ]
  },
  {
   "cell_type": "code",
   "execution_count": 22,
   "id": "f969d947-3214-4b16-958f-688b0502f4fe",
   "metadata": {},
   "outputs": [],
   "source": [
    "# Cleaning and wrangling data\n",
    "# Added meaningful column names. \n",
    "# We changed the orignal attribute name \"num\" to \"Heart_Disease\" because \"num\" had little meaning\n",
    "\n",
    "set.seed(1000)\n",
    "\n",
    "heart_data <- rename(heart_data,\n",
    "                     Age = X1,\n",
    "                     Sex = X2,\n",
    "                     Chest_Pain_Type = X3,\n",
    "                     Resting_Blood_Pressure = X4,\n",
    "                     Serum_Cholestoral = X5,\n",
    "                     Fasting_Blood_Sugar = X6,\n",
    "                     Resting_Electrocardiographic_Results = X7,\n",
    "                     Maximum_Heart_Rate = X8,\n",
    "                     Exercise_Induced_Angina = X9,\n",
    "                     ST_Depression = X10,\n",
    "                     Slope_Peak_excercise = X11,\n",
    "                     Major_Vessels = X12,\n",
    "                     Thalassemia = X13,\n",
    "                     Heart_Disease = X14)\n",
    "\n"
   ]
  },
  {
   "cell_type": "markdown",
   "id": "8f795ef5-d393-4829-8498-52e5793741ee",
   "metadata": {},
   "source": [
    "We are predicting if the patient has heart disease so we want to change it into a factor."
   ]
  },
  {
   "cell_type": "code",
   "execution_count": 23,
   "id": "bc5a7008-8d11-4ba7-a757-233c819bbef5",
   "metadata": {},
   "outputs": [],
   "source": [
    "heart_data$Heart_Disease <- as.factor(heart_data$Heart_Disease)"
   ]
  },
  {
   "cell_type": "markdown",
   "id": "8aeb78ab-aaab-4a62-aa64-c7220cad51c1",
   "metadata": {},
   "source": [
    "We only want to know if each patient is tested positive or negative for heart disease. This means we only need the numbers 0 (negative) and 1 (postive) and want to remove other numbers. We reassigned the numbers 2, 3, and 4 to 1 because numbers that are greater 1 also mean that the patient has heart disease."
   ]
  },
  {
   "cell_type": "code",
   "execution_count": 24,
   "id": "7961e7fd-9ad9-4436-b636-6c75f9d83778",
   "metadata": {},
   "outputs": [],
   "source": [
    "heart_data$Heart_Disease[heart_data$Heart_Disease== \"4\"]<- \"1\"\n",
    "heart_data$Heart_Disease[heart_data$Heart_Disease== \"3\"]<- \"1\"\n",
    "heart_data$Heart_Disease[heart_data$Heart_Disease== \"2\"]<- \"1\"\n"
   ]
  },
  {
   "cell_type": "markdown",
   "id": "a60b64d6-96e9-470d-a1bc-c9739cecb16d",
   "metadata": {},
   "source": [
    "Here we summarized the data in one table"
   ]
  },
  {
   "cell_type": "code",
   "execution_count": 25,
   "id": "43b65bce-4c17-4c43-a908-6cba8294ad81",
   "metadata": {},
   "outputs": [
    {
     "data": {
      "text/html": [
       "<table class=\"dataframe\">\n",
       "<caption>A tibble: 2 × 9</caption>\n",
       "<thead>\n",
       "\t<tr><th scope=col>Heart_Disease</th><th scope=col>number_patients</th><th scope=col>mean_age</th><th scope=col>median_age</th><th scope=col>mean_resting_blood_pressure</th><th scope=col>median_resting_blood_pressure</th><th scope=col>mean_max_heart_rate</th><th scope=col>median_max_heart_rate</th><th scope=col>number_rows_missing_data</th></tr>\n",
       "\t<tr><th scope=col>&lt;fct&gt;</th><th scope=col>&lt;int&gt;</th><th scope=col>&lt;dbl&gt;</th><th scope=col>&lt;dbl&gt;</th><th scope=col>&lt;dbl&gt;</th><th scope=col>&lt;dbl&gt;</th><th scope=col>&lt;dbl&gt;</th><th scope=col>&lt;dbl&gt;</th><th scope=col>&lt;int&gt;</th></tr>\n",
       "</thead>\n",
       "<tbody>\n",
       "\t<tr><td>0</td><td>164</td><td>52.58537</td><td>52</td><td>129.2500</td><td>130</td><td>158.378</td><td>161</td><td>6</td></tr>\n",
       "\t<tr><td>1</td><td>139</td><td>56.62590</td><td>58</td><td>134.5683</td><td>130</td><td>139.259</td><td>142</td><td>6</td></tr>\n",
       "</tbody>\n",
       "</table>\n"
      ],
      "text/latex": [
       "A tibble: 2 × 9\n",
       "\\begin{tabular}{lllllllll}\n",
       " Heart\\_Disease & number\\_patients & mean\\_age & median\\_age & mean\\_resting\\_blood\\_pressure & median\\_resting\\_blood\\_pressure & mean\\_max\\_heart\\_rate & median\\_max\\_heart\\_rate & number\\_rows\\_missing\\_data\\\\\n",
       " <fct> & <int> & <dbl> & <dbl> & <dbl> & <dbl> & <dbl> & <dbl> & <int>\\\\\n",
       "\\hline\n",
       "\t 0 & 164 & 52.58537 & 52 & 129.2500 & 130 & 158.378 & 161 & 6\\\\\n",
       "\t 1 & 139 & 56.62590 & 58 & 134.5683 & 130 & 139.259 & 142 & 6\\\\\n",
       "\\end{tabular}\n"
      ],
      "text/markdown": [
       "\n",
       "A tibble: 2 × 9\n",
       "\n",
       "| Heart_Disease &lt;fct&gt; | number_patients &lt;int&gt; | mean_age &lt;dbl&gt; | median_age &lt;dbl&gt; | mean_resting_blood_pressure &lt;dbl&gt; | median_resting_blood_pressure &lt;dbl&gt; | mean_max_heart_rate &lt;dbl&gt; | median_max_heart_rate &lt;dbl&gt; | number_rows_missing_data &lt;int&gt; |\n",
       "|---|---|---|---|---|---|---|---|---|\n",
       "| 0 | 164 | 52.58537 | 52 | 129.2500 | 130 | 158.378 | 161 | 6 |\n",
       "| 1 | 139 | 56.62590 | 58 | 134.5683 | 130 | 139.259 | 142 | 6 |\n",
       "\n"
      ],
      "text/plain": [
       "  Heart_Disease number_patients mean_age median_age mean_resting_blood_pressure\n",
       "1 0             164             52.58537 52         129.2500                   \n",
       "2 1             139             56.62590 58         134.5683                   \n",
       "  median_resting_blood_pressure mean_max_heart_rate median_max_heart_rate\n",
       "1 130                           158.378             161                  \n",
       "2 130                           139.259             142                  \n",
       "  number_rows_missing_data\n",
       "1 6                       \n",
       "2 6                       "
      ]
     },
     "metadata": {},
     "output_type": "display_data"
    }
   ],
   "source": [
    "summary_table <- heart_data |>\n",
    "        group_by(Heart_Disease) |>\n",
    "        summarize(number_patients = n(),\n",
    "                  mean_age = mean(Age, na.rm = TRUE),\n",
    "                  median_age = median(Age, na.rm = TRUE),\n",
    "                  mean_resting_blood_pressure = mean(Resting_Blood_Pressure, na.rm = TRUE),\n",
    "                  median_resting_blood_pressure = median(Resting_Blood_Pressure, na.rm = TRUE),\n",
    "                  mean_max_heart_rate = mean(Maximum_Heart_Rate, na.rm = TRUE),\n",
    "                  median_max_heart_rate = median(Maximum_Heart_Rate, na.rm = TRUE),\n",
    "                  number_rows_missing_data = sum(heart_data == \"?\"))\n",
    "summary_table"
   ]
  },
  {
   "cell_type": "code",
   "execution_count": 26,
   "id": "3b4ebdb9-b98d-4d05-b0cf-42f76e71e6cb",
   "metadata": {},
   "outputs": [],
   "source": [
    "heart_split <- initial_split(heart_data, prop = 0.75, strata = Heart_Disease) \n",
    "heart_train <- training(heart_split)   \n",
    "heart_test <- testing(heart_split)\n"
   ]
  },
  {
   "cell_type": "markdown",
   "id": "cf4819f6-f078-4895-91bb-4957b589facd",
   "metadata": {},
   "source": [
    "#### Table Legend\n",
    "Table 1 <br>\n",
    "Table 2 <br>\n",
    "Table 3 <br>\n",
    "\n",
    "#### Figure Legend\n",
    "Figure 1 <br>\n",
    "Figure 2 <br>\n",
    "Figure 3 <br>"
   ]
  },
  {
   "cell_type": "markdown",
   "id": "4c45fb3d-97ea-4e55-a9c2-dfa6fc6d683f",
   "metadata": {},
   "source": [
    "## Discussion\n",
    "\n",
    "\n",
    "\n",
    "\n",
    "#### Conclusion & Future Areas of Investigation\n"
   ]
  },
  {
   "cell_type": "markdown",
   "id": "96e78469-e68c-4c52-8d56-9b067e88bfd6",
   "metadata": {},
   "source": [
    "## References\n"
   ]
  }
 ],
 "metadata": {
  "kernelspec": {
   "display_name": "R",
   "language": "R",
   "name": "ir"
  },
  "language_info": {
   "codemirror_mode": "r",
   "file_extension": ".r",
   "mimetype": "text/x-r-source",
   "name": "R",
   "pygments_lexer": "r",
   "version": "4.1.3"
  }
 },
 "nbformat": 4,
 "nbformat_minor": 5
}
