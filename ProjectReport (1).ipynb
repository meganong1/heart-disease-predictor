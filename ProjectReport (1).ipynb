{
 "cells": [
  {
   "cell_type": "markdown",
   "id": "7ee8afc9-c374-4e2c-9035-b21916dec7d2",
   "metadata": {
    "tags": []
   },
   "source": [
    "# Predicting the Likelihood of Heart Disease within a Patient"
   ]
  },
  {
   "cell_type": "markdown",
   "id": "9f4219bd-6ca3-4c25-a413-93cfecbd74a7",
   "metadata": {},
   "source": [
    "## Introduction\n",
    "[REPLACE]"
   ]
  },
  {
   "cell_type": "markdown",
   "id": "419b4369-7dc6-42f4-a4b9-36c93c03c272",
   "metadata": {},
   "source": [
    "## Methods & Results\n"
   ]
  },
  {
   "cell_type": "code",
   "execution_count": 5,
   "id": "f6894aba-eb23-4eb8-a2d2-b32ced82ad47",
   "metadata": {},
   "outputs": [],
   "source": [
    "#loading all packages\n",
    "library(tidymodels)\n",
    "library(tidyverse)\n",
    "library(repr)\n",
    "library(rvest)\n",
    "library(readxl)\n",
    "library(RColorBrewer)\n",
    "library(cowplot)\n",
    "     "
   ]
  },
  {
   "cell_type": "code",
   "execution_count": 6,
   "id": "5b462dc7-7bff-4f55-b816-e0628d826c5f",
   "metadata": {},
   "outputs": [
    {
     "name": "stderr",
     "output_type": "stream",
     "text": [
      "\u001b[1mRows: \u001b[22m\u001b[34m303\u001b[39m \u001b[1mColumns: \u001b[22m\u001b[34m14\u001b[39m\n",
      "\u001b[36m──\u001b[39m \u001b[1mColumn specification\u001b[22m \u001b[36m────────────────────────────────────────────────────────\u001b[39m\n",
      "\u001b[1mDelimiter:\u001b[22m \",\"\n",
      "\u001b[31mchr\u001b[39m  (2): X12, X13\n",
      "\u001b[32mdbl\u001b[39m (12): X1, X2, X3, X4, X5, X6, X7, X8, X9, X10, X11, X14\n",
      "\n",
      "\u001b[36mℹ\u001b[39m Use `spec()` to retrieve the full column specification for this data.\n",
      "\u001b[36mℹ\u001b[39m Specify the column types or set `show_col_types = FALSE` to quiet this message.\n"
     ]
    }
   ],
   "source": [
    "#read csv file from UCI\n",
    "url <- \"https://archive.ics.uci.edu/ml/machine-learning-databases/heart-disease/processed.cleveland.data\"\n",
    "heart_data <- read_csv(url, col_names = FALSE)"
   ]
  },
  {
   "cell_type": "code",
   "execution_count": 7,
   "id": "f969d947-3214-4b16-958f-688b0502f4fe",
   "metadata": {},
   "outputs": [],
   "source": [
    "# Cleaning and wrangling data\n",
    "# Added meaningful column names. \n",
    "# We changed the orignal attribute name \"num\" to \"Heart_Disease\" because \"num\" had little meaning\n",
    "\n",
    "set.seed(1000)\n",
    "\n",
    "heart_data <- rename(heart_data,\n",
    "                     Age = X1,\n",
    "                     Sex = X2,\n",
    "                     Chest_Pain_Type = X3,\n",
    "                     Resting_Blood_Pressure = X4,\n",
    "                     Serum_Cholestoral = X5,\n",
    "                     Fasting_Blood_Sugar = X6,\n",
    "                     Resting_Electrocardiographic_Results = X7,\n",
    "                     Maximum_Heart_Rate = X8,\n",
    "                     Exercise_Induced_Angina = X9,\n",
    "                     ST_Depression = X10,\n",
    "                     Slope_Peak_excercise = X11,\n",
    "                     Major_Vessels = X12,\n",
    "                     Thalassemia = X13,\n",
    "                     Heart_Disease = X14)\n",
    "\n"
   ]
  },
  {
   "cell_type": "markdown",
   "id": "8f795ef5-d393-4829-8498-52e5793741ee",
   "metadata": {},
   "source": [
    "We are predicting if the patient has heart disease so we want to change it into a factor."
   ]
  },
  {
   "cell_type": "code",
   "execution_count": 8,
   "id": "bc5a7008-8d11-4ba7-a757-233c819bbef5",
   "metadata": {},
   "outputs": [],
   "source": [
    "heart_data$Heart_Disease <- as.factor(heart_data$Heart_Disease)"
   ]
  },
  {
   "cell_type": "markdown",
   "id": "8aeb78ab-aaab-4a62-aa64-c7220cad51c1",
   "metadata": {},
   "source": [
    "We only want to know if each patient is tested positive or negative for heart disease. This means we only need the numbers 0 (negative) and 1 (postive) and want to remove other numbers. We reassigned the numbers 2, 3, and 4 to 1 because numbers that are greater 1 also mean that the patient has heart disease."
   ]
  },
  {
   "cell_type": "code",
   "execution_count": 9,
   "id": "7961e7fd-9ad9-4436-b636-6c75f9d83778",
   "metadata": {},
   "outputs": [],
   "source": [
    "heart_data$Heart_Disease[heart_data$Heart_Disease== \"4\"]<- \"1\"\n",
    "heart_data$Heart_Disease[heart_data$Heart_Disease== \"3\"]<- \"1\"\n",
    "heart_data$Heart_Disease[heart_data$Heart_Disease== \"2\"]<- \"1\"\n"
   ]
  },
  {
   "cell_type": "markdown",
   "id": "a60b64d6-96e9-470d-a1bc-c9739cecb16d",
   "metadata": {},
   "source": [
    "Here we summarized the data in one table. [ADD MORE EXPLAINATION]"
   ]
  },
  {
   "cell_type": "code",
   "execution_count": 10,
   "id": "43b65bce-4c17-4c43-a908-6cba8294ad81",
   "metadata": {},
   "outputs": [
    {
     "data": {
      "text/html": [
       "<table class=\"dataframe\">\n",
       "<caption>A tibble: 2 × 9</caption>\n",
       "<thead>\n",
       "\t<tr><th scope=col>Heart_Disease</th><th scope=col>number_patients</th><th scope=col>mean_age</th><th scope=col>median_age</th><th scope=col>mean_resting_blood_pressure</th><th scope=col>median_resting_blood_pressure</th><th scope=col>mean_max_heart_rate</th><th scope=col>median_max_heart_rate</th><th scope=col>number_rows_missing_data</th></tr>\n",
       "\t<tr><th scope=col>&lt;fct&gt;</th><th scope=col>&lt;int&gt;</th><th scope=col>&lt;dbl&gt;</th><th scope=col>&lt;dbl&gt;</th><th scope=col>&lt;dbl&gt;</th><th scope=col>&lt;dbl&gt;</th><th scope=col>&lt;dbl&gt;</th><th scope=col>&lt;dbl&gt;</th><th scope=col>&lt;int&gt;</th></tr>\n",
       "</thead>\n",
       "<tbody>\n",
       "\t<tr><td>0</td><td>164</td><td>52.58537</td><td>52</td><td>129.2500</td><td>130</td><td>158.378</td><td>161</td><td>6</td></tr>\n",
       "\t<tr><td>1</td><td>139</td><td>56.62590</td><td>58</td><td>134.5683</td><td>130</td><td>139.259</td><td>142</td><td>6</td></tr>\n",
       "</tbody>\n",
       "</table>\n"
      ],
      "text/latex": [
       "A tibble: 2 × 9\n",
       "\\begin{tabular}{lllllllll}\n",
       " Heart\\_Disease & number\\_patients & mean\\_age & median\\_age & mean\\_resting\\_blood\\_pressure & median\\_resting\\_blood\\_pressure & mean\\_max\\_heart\\_rate & median\\_max\\_heart\\_rate & number\\_rows\\_missing\\_data\\\\\n",
       " <fct> & <int> & <dbl> & <dbl> & <dbl> & <dbl> & <dbl> & <dbl> & <int>\\\\\n",
       "\\hline\n",
       "\t 0 & 164 & 52.58537 & 52 & 129.2500 & 130 & 158.378 & 161 & 6\\\\\n",
       "\t 1 & 139 & 56.62590 & 58 & 134.5683 & 130 & 139.259 & 142 & 6\\\\\n",
       "\\end{tabular}\n"
      ],
      "text/markdown": [
       "\n",
       "A tibble: 2 × 9\n",
       "\n",
       "| Heart_Disease &lt;fct&gt; | number_patients &lt;int&gt; | mean_age &lt;dbl&gt; | median_age &lt;dbl&gt; | mean_resting_blood_pressure &lt;dbl&gt; | median_resting_blood_pressure &lt;dbl&gt; | mean_max_heart_rate &lt;dbl&gt; | median_max_heart_rate &lt;dbl&gt; | number_rows_missing_data &lt;int&gt; |\n",
       "|---|---|---|---|---|---|---|---|---|\n",
       "| 0 | 164 | 52.58537 | 52 | 129.2500 | 130 | 158.378 | 161 | 6 |\n",
       "| 1 | 139 | 56.62590 | 58 | 134.5683 | 130 | 139.259 | 142 | 6 |\n",
       "\n"
      ],
      "text/plain": [
       "  Heart_Disease number_patients mean_age median_age mean_resting_blood_pressure\n",
       "1 0             164             52.58537 52         129.2500                   \n",
       "2 1             139             56.62590 58         134.5683                   \n",
       "  median_resting_blood_pressure mean_max_heart_rate median_max_heart_rate\n",
       "1 130                           158.378             161                  \n",
       "2 130                           139.259             142                  \n",
       "  number_rows_missing_data\n",
       "1 6                       \n",
       "2 6                       "
      ]
     },
     "metadata": {},
     "output_type": "display_data"
    }
   ],
   "source": [
    "\n",
    "summary_table <- heart_data |> \n",
    "                   group_by(Heart_Disease) |>\n",
    "                   summarize(number_patients = n(),\n",
    "                           mean_age = mean(Age, na.rm = TRUE),   \n",
    "                           median_age = median(Age, na.rm = TRUE),\n",
    "                           mean_resting_blood_pressure = mean(Resting_Blood_Pressure, na.rm = TRUE),\n",
    "                           median_resting_blood_pressure = median(Resting_Blood_Pressure, na.rm = TRUE),  \n",
    "                           mean_max_heart_rate = mean(Maximum_Heart_Rate, na.rm = TRUE),\n",
    "                           median_max_heart_rate = median(Maximum_Heart_Rate, na.rm = TRUE),\n",
    "                           number_rows_missing_data = sum(heart_data==\"?\"))\n",
    "                           #total_entries = sum(number_patients)) #how to get 303?\n",
    "summary_table\n"
   ]
  },
  {
   "cell_type": "code",
   "execution_count": 19,
   "id": "3b4ebdb9-b98d-4d05-b0cf-42f76e71e6cb",
   "metadata": {},
   "outputs": [],
   "source": [
    "set.seed(1000)\n",
    "\n",
    "heart_cut <- heart_data |> select(Age, Sex, Heart_Disease, Maximum_Heart_Rate)\n",
    "heart_split <- initial_split(heart_cut, prop = 0.75, strata = Heart_Disease) \n",
    "heart_train <- training(heart_split)   \n",
    "heart_test <- testing(heart_split)\n"
   ]
  },
  {
   "cell_type": "markdown",
   "id": "cf4819f6-f078-4895-91bb-4957b589facd",
   "metadata": {},
   "source": [
    "#### Table Legend\n",
    "Table 1 <br>\n",
    "Table 2 <br>\n",
    "Table 3 <br>\n",
    "\n",
    "#### Figure Legend\n",
    "Figure 1 <br>\n",
    "Figure 2 <br>\n",
    "Figure 3 <br>"
   ]
  },
  {
   "cell_type": "markdown",
   "id": "2460ebf9-422f-4ac5-9783-663aac4ab6ce",
   "metadata": {},
   "source": [
    "#### Table 1: Training Data"
   ]
  },
  {
   "cell_type": "code",
   "execution_count": 16,
   "id": "8d4da0ea-f4bb-428e-88ee-4cdfdcafe49b",
   "metadata": {},
   "outputs": [
    {
     "data": {
      "text/html": [
       "<table class=\"dataframe\">\n",
       "<caption>A tibble: 6 × 4</caption>\n",
       "<thead>\n",
       "\t<tr><th scope=col>Age</th><th scope=col>Sex</th><th scope=col>Heart_Disease</th><th scope=col>Maximum_Heart_Rate</th></tr>\n",
       "\t<tr><th scope=col>&lt;dbl&gt;</th><th scope=col>&lt;dbl&gt;</th><th scope=col>&lt;fct&gt;</th><th scope=col>&lt;dbl&gt;</th></tr>\n",
       "</thead>\n",
       "<tbody>\n",
       "\t<tr><td>63</td><td>1</td><td>0</td><td>150</td></tr>\n",
       "\t<tr><td>37</td><td>1</td><td>0</td><td>187</td></tr>\n",
       "\t<tr><td>41</td><td>0</td><td>0</td><td>172</td></tr>\n",
       "\t<tr><td>57</td><td>0</td><td>0</td><td>163</td></tr>\n",
       "\t<tr><td>57</td><td>1</td><td>0</td><td>148</td></tr>\n",
       "\t<tr><td>44</td><td>1</td><td>0</td><td>173</td></tr>\n",
       "</tbody>\n",
       "</table>\n"
      ],
      "text/latex": [
       "A tibble: 6 × 4\n",
       "\\begin{tabular}{llll}\n",
       " Age & Sex & Heart\\_Disease & Maximum\\_Heart\\_Rate\\\\\n",
       " <dbl> & <dbl> & <fct> & <dbl>\\\\\n",
       "\\hline\n",
       "\t 63 & 1 & 0 & 150\\\\\n",
       "\t 37 & 1 & 0 & 187\\\\\n",
       "\t 41 & 0 & 0 & 172\\\\\n",
       "\t 57 & 0 & 0 & 163\\\\\n",
       "\t 57 & 1 & 0 & 148\\\\\n",
       "\t 44 & 1 & 0 & 173\\\\\n",
       "\\end{tabular}\n"
      ],
      "text/markdown": [
       "\n",
       "A tibble: 6 × 4\n",
       "\n",
       "| Age &lt;dbl&gt; | Sex &lt;dbl&gt; | Heart_Disease &lt;fct&gt; | Maximum_Heart_Rate &lt;dbl&gt; |\n",
       "|---|---|---|---|\n",
       "| 63 | 1 | 0 | 150 |\n",
       "| 37 | 1 | 0 | 187 |\n",
       "| 41 | 0 | 0 | 172 |\n",
       "| 57 | 0 | 0 | 163 |\n",
       "| 57 | 1 | 0 | 148 |\n",
       "| 44 | 1 | 0 | 173 |\n",
       "\n"
      ],
      "text/plain": [
       "  Age Sex Heart_Disease Maximum_Heart_Rate\n",
       "1 63  1   0             150               \n",
       "2 37  1   0             187               \n",
       "3 41  0   0             172               \n",
       "4 57  0   0             163               \n",
       "5 57  1   0             148               \n",
       "6 44  1   0             173               "
      ]
     },
     "metadata": {},
     "output_type": "display_data"
    }
   ],
   "source": [
    "head(heart_train)"
   ]
  },
  {
   "cell_type": "markdown",
   "id": "6fee2759-163a-4b32-ad97-9c7c4b7b2450",
   "metadata": {},
   "source": [
    "#### Table 2: Testing Data"
   ]
  },
  {
   "cell_type": "code",
   "execution_count": 17,
   "id": "0b9d478c-d47b-43f3-984a-edf9a50b045b",
   "metadata": {},
   "outputs": [
    {
     "data": {
      "text/html": [
       "<table class=\"dataframe\">\n",
       "<caption>A tibble: 6 × 4</caption>\n",
       "<thead>\n",
       "\t<tr><th scope=col>Age</th><th scope=col>Sex</th><th scope=col>Heart_Disease</th><th scope=col>Maximum_Heart_Rate</th></tr>\n",
       "\t<tr><th scope=col>&lt;dbl&gt;</th><th scope=col>&lt;dbl&gt;</th><th scope=col>&lt;fct&gt;</th><th scope=col>&lt;dbl&gt;</th></tr>\n",
       "</thead>\n",
       "<tbody>\n",
       "\t<tr><td>67</td><td>1</td><td>1</td><td>108</td></tr>\n",
       "\t<tr><td>56</td><td>1</td><td>0</td><td>178</td></tr>\n",
       "\t<tr><td>63</td><td>1</td><td>1</td><td>147</td></tr>\n",
       "\t<tr><td>56</td><td>0</td><td>0</td><td>153</td></tr>\n",
       "\t<tr><td>57</td><td>1</td><td>0</td><td>174</td></tr>\n",
       "\t<tr><td>54</td><td>1</td><td>0</td><td>160</td></tr>\n",
       "</tbody>\n",
       "</table>\n"
      ],
      "text/latex": [
       "A tibble: 6 × 4\n",
       "\\begin{tabular}{llll}\n",
       " Age & Sex & Heart\\_Disease & Maximum\\_Heart\\_Rate\\\\\n",
       " <dbl> & <dbl> & <fct> & <dbl>\\\\\n",
       "\\hline\n",
       "\t 67 & 1 & 1 & 108\\\\\n",
       "\t 56 & 1 & 0 & 178\\\\\n",
       "\t 63 & 1 & 1 & 147\\\\\n",
       "\t 56 & 0 & 0 & 153\\\\\n",
       "\t 57 & 1 & 0 & 174\\\\\n",
       "\t 54 & 1 & 0 & 160\\\\\n",
       "\\end{tabular}\n"
      ],
      "text/markdown": [
       "\n",
       "A tibble: 6 × 4\n",
       "\n",
       "| Age &lt;dbl&gt; | Sex &lt;dbl&gt; | Heart_Disease &lt;fct&gt; | Maximum_Heart_Rate &lt;dbl&gt; |\n",
       "|---|---|---|---|\n",
       "| 67 | 1 | 1 | 108 |\n",
       "| 56 | 1 | 0 | 178 |\n",
       "| 63 | 1 | 1 | 147 |\n",
       "| 56 | 0 | 0 | 153 |\n",
       "| 57 | 1 | 0 | 174 |\n",
       "| 54 | 1 | 0 | 160 |\n",
       "\n"
      ],
      "text/plain": [
       "  Age Sex Heart_Disease Maximum_Heart_Rate\n",
       "1 67  1   1             108               \n",
       "2 56  1   0             178               \n",
       "3 63  1   1             147               \n",
       "4 56  0   0             153               \n",
       "5 57  1   0             174               \n",
       "6 54  1   0             160               "
      ]
     },
     "metadata": {},
     "output_type": "display_data"
    }
   ],
   "source": [
    "head(heart_test)"
   ]
  },
  {
   "cell_type": "markdown",
   "id": "edc00e30-1231-4476-a8c3-0679b389dc36",
   "metadata": {},
   "source": [
    "#### Table 3: KNN Calculations"
   ]
  },
  {
   "cell_type": "code",
   "execution_count": 20,
   "id": "cae2343c-edeb-4ff0-b81b-c3d91c2d39df",
   "metadata": {},
   "outputs": [
    {
     "name": "stderr",
     "output_type": "stream",
     "text": [
      "\u001b[33m!\u001b[39m \u001b[33mFold1: internal:\n",
      "  No observations were detected in `truth` for level(s): '2', '3', '4'\n",
      "  Computation will proceed by ignoring those levels.\u001b[39m\n",
      "\n",
      "\u001b[33m!\u001b[39m \u001b[33mFold2: internal:\n",
      "  No observations were detected in `truth` for level(s): '2', '3', '4'\n",
      "  Computation will proceed by ignoring those levels.\u001b[39m\n",
      "\n",
      "\u001b[33m!\u001b[39m \u001b[33mFold3: internal:\n",
      "  No observations were detected in `truth` for level(s): '2', '3', '4'\n",
      "  Computation will proceed by ignoring those levels.\u001b[39m\n",
      "\n",
      "\u001b[33m!\u001b[39m \u001b[33mFold4: internal:\n",
      "  No observations were detected in `truth` for level(s): '2', '3', '4'\n",
      "  Computation will proceed by ignoring those levels.\u001b[39m\n",
      "\n",
      "\u001b[33m!\u001b[39m \u001b[33mFold5: internal:\n",
      "  No observations were detected in `truth` for level(s): '2', '3', '4'\n",
      "  Computation will proceed by ignoring those levels.\u001b[39m\n",
      "\n"
     ]
    },
    {
     "data": {
      "text/html": [
       "<table class=\"dataframe\">\n",
       "<caption>A tibble: 1 × 7</caption>\n",
       "<thead>\n",
       "\t<tr><th scope=col>neighbors</th><th scope=col>.metric</th><th scope=col>.estimator</th><th scope=col>mean</th><th scope=col>n</th><th scope=col>std_err</th><th scope=col>.config</th></tr>\n",
       "\t<tr><th scope=col>&lt;dbl&gt;</th><th scope=col>&lt;chr&gt;</th><th scope=col>&lt;chr&gt;</th><th scope=col>&lt;dbl&gt;</th><th scope=col>&lt;int&gt;</th><th scope=col>&lt;dbl&gt;</th><th scope=col>&lt;chr&gt;</th></tr>\n",
       "</thead>\n",
       "<tbody>\n",
       "\t<tr><td>26</td><td>accuracy</td><td>multiclass</td><td>0.7449846</td><td>5</td><td>0.01451897</td><td>Preprocessor1_Model06</td></tr>\n",
       "</tbody>\n",
       "</table>\n"
      ],
      "text/latex": [
       "A tibble: 1 × 7\n",
       "\\begin{tabular}{lllllll}\n",
       " neighbors & .metric & .estimator & mean & n & std\\_err & .config\\\\\n",
       " <dbl> & <chr> & <chr> & <dbl> & <int> & <dbl> & <chr>\\\\\n",
       "\\hline\n",
       "\t 26 & accuracy & multiclass & 0.7449846 & 5 & 0.01451897 & Preprocessor1\\_Model06\\\\\n",
       "\\end{tabular}\n"
      ],
      "text/markdown": [
       "\n",
       "A tibble: 1 × 7\n",
       "\n",
       "| neighbors &lt;dbl&gt; | .metric &lt;chr&gt; | .estimator &lt;chr&gt; | mean &lt;dbl&gt; | n &lt;int&gt; | std_err &lt;dbl&gt; | .config &lt;chr&gt; |\n",
       "|---|---|---|---|---|---|---|\n",
       "| 26 | accuracy | multiclass | 0.7449846 | 5 | 0.01451897 | Preprocessor1_Model06 |\n",
       "\n"
      ],
      "text/plain": [
       "  neighbors .metric  .estimator mean      n std_err    .config              \n",
       "1 26        accuracy multiclass 0.7449846 5 0.01451897 Preprocessor1_Model06"
      ]
     },
     "metadata": {},
     "output_type": "display_data"
    },
    {
     "data": {
      "text/html": [
       "<table class=\"dataframe\">\n",
       "<caption>A tibble: 1 × 1</caption>\n",
       "<thead>\n",
       "\t<tr><th scope=col>n</th></tr>\n",
       "\t<tr><th scope=col>&lt;int&gt;</th></tr>\n",
       "</thead>\n",
       "<tbody>\n",
       "\t<tr><td>5</td></tr>\n",
       "</tbody>\n",
       "</table>\n"
      ],
      "text/latex": [
       "A tibble: 1 × 1\n",
       "\\begin{tabular}{l}\n",
       " n\\\\\n",
       " <int>\\\\\n",
       "\\hline\n",
       "\t 5\\\\\n",
       "\\end{tabular}\n"
      ],
      "text/markdown": [
       "\n",
       "A tibble: 1 × 1\n",
       "\n",
       "| n &lt;int&gt; |\n",
       "|---|\n",
       "| 5 |\n",
       "\n"
      ],
      "text/plain": [
       "  n\n",
       "1 5"
      ]
     },
     "metadata": {},
     "output_type": "display_data"
    }
   ],
   "source": [
    "\n",
    "set.seed(200)\n",
    "\n",
    "heart_initial_spec <- nearest_neighbor(weight_func = \"rectangular\", neighbors = tune()) |>\n",
    "  set_engine(\"kknn\") |>\n",
    "  set_mode(\"classification\")\n",
    "\n",
    "\n",
    "heart_recipe <- recipe(Heart_Disease ~ Age + Sex + Maximum_Heart_Rate, data = heart_train) |>\n",
    "  step_scale(all_predictors()) |>\n",
    "  step_center(all_predictors())\n",
    "\n",
    "heart_vfold <- vfold_cv(heart_train, v = 5, strata = Heart_Disease)\n",
    "\n",
    "k_vals <- tibble(neighbors = seq(from = 1, to = 100, by = 5))\n",
    "\n",
    "heart_results <- workflow() |>\n",
    "       add_recipe(heart_recipe) |>\n",
    "       add_model(heart_initial_spec) |>\n",
    "       tune_grid(resamples = heart_vfold, grid = k_vals) |>\n",
    "       collect_metrics()\n",
    "\n",
    "set.seed(200)\n",
    "accuracies <- heart_results |>\n",
    "  filter(.metric == \"accuracy\") |> \n",
    "    arrange(desc(mean)) |>\n",
    "    slice(1)\n",
    "\n",
    "accuracies\n",
    "\n",
    "final_k <- accuracies |> select(n)\n",
    "\n",
    "final_k\n",
    "     \n"
   ]
  },
  {
   "cell_type": "code",
   "execution_count": null,
   "id": "d9b8d512-7bb2-46dd-9576-41f39bb87bfc",
   "metadata": {},
   "outputs": [],
   "source": [
    "set.seed(200)\n",
    "heart_final_spec <- nearest_neighbor(weight_func = \"rectangular\", neighbors = final_k) |>\n",
    "  set_engine(\"kknn\") |>\n",
    "  set_mode(\"classification\")\n",
    "\n",
    "heart_final_fit <- workflow() |>\n",
    "       add_recipe(heart_recipe) |>\n",
    "       add_model(heart_final_spec) |>\n",
    "       fit(data = heart_train)\n",
    "\n",
    "heart_testing <- predict(heart_final_fit, heart_test) |> bind_cols(heart_test)\n",
    "\n",
    "predictions <- heart_testing |> conf_mat(truth = Heart_Disease, estimate = .pred_class)\n",
    "\n",
    "predictions\n",
    "\n",
    "prediction_accuracy <- heart_testing |> metrics(truth = Heart_Disease, estimate = .pred_class)\n",
    "\n",
    "prediction_accuracy"
   ]
  },
  {
   "cell_type": "markdown",
   "id": "4c45fb3d-97ea-4e55-a9c2-dfa6fc6d683f",
   "metadata": {},
   "source": [
    "## Discussion\n",
    "\n",
    "\n",
    "\n",
    "\n",
    "#### Conclusion & Future Areas of Investigation\n"
   ]
  },
  {
   "cell_type": "markdown",
   "id": "96e78469-e68c-4c52-8d56-9b067e88bfd6",
   "metadata": {},
   "source": [
    "## References\n"
   ]
  }
 ],
 "metadata": {
  "kernelspec": {
   "display_name": "R",
   "language": "R",
   "name": "ir"
  },
  "language_info": {
   "codemirror_mode": "r",
   "file_extension": ".r",
   "mimetype": "text/x-r-source",
   "name": "R",
   "pygments_lexer": "r",
   "version": "4.1.3"
  }
 },
 "nbformat": 4,
 "nbformat_minor": 5
}
