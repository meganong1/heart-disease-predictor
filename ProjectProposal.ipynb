{
 "cells": [
  {
   "cell_type": "markdown",
   "id": "7ee8afc9-c374-4e2c-9035-b21916dec7d2",
   "metadata": {
    "tags": []
   },
   "source": [
    "# Predicting the Likelihood of Heart Disease within a Patient"
   ]
  },
  {
   "cell_type": "markdown",
   "id": "9f4219bd-6ca3-4c25-a413-93cfecbd74a7",
   "metadata": {},
   "source": [
    "## Introduction\n",
    "Heart disease describes a group of serious medical conditions that affect the heart and blood vessels. There are several types of heart disease including heart failure, arrhythmia, valvular heart disease, and congenital heart disease. They all depict several states in which the flow of blood is unable to properly circulate throughout the heart. Due to insufficient blood, a range of symptoms can occur that significantly affect the patient’s quality of life including chest pain, fatigue, nausea and shortness of breath. Heart disease is one of the leading causes of death, accounting for almost one-third of all deaths. With our project, we plan to address the question: “Is there a correlation between the variables in the dataset outcome of whether individuals have heart disease?” The dataset we selected contains the recorded health of various patients that are either tested positive or negative for heart disease. Through an algorithm, we plan to analyze degrees of correlation between the fourteen different recorded variables of patients in Cleveland that are with and without heart disease within the dataset. Through this analysis, we will be able to determine whether or not the presence of heart disease can be detected based on a correlation between variables. Our end goal for this group project is to be able to use this dataset to detect with a level of certainty, whether or not a patient will test positive for heart disease."
   ]
  },
  {
   "cell_type": "markdown",
   "id": "419b4369-7dc6-42f4-a4b9-36c93c03c272",
   "metadata": {},
   "source": [
    "## Preliminary Exploratory Data Analysis"
   ]
  },
  {
   "cell_type": "code",
   "execution_count": 1,
   "id": "f6894aba-eb23-4eb8-a2d2-b32ced82ad47",
   "metadata": {},
   "outputs": [
    {
     "name": "stderr",
     "output_type": "stream",
     "text": [
      "── \u001b[1mAttaching packages\u001b[22m ────────────────────────────────────── tidymodels 1.0.0 ──\n",
      "\n",
      "\u001b[32m✔\u001b[39m \u001b[34mbroom       \u001b[39m 1.0.0     \u001b[32m✔\u001b[39m \u001b[34mrecipes     \u001b[39m 1.0.1\n",
      "\u001b[32m✔\u001b[39m \u001b[34mdials       \u001b[39m 1.0.0     \u001b[32m✔\u001b[39m \u001b[34mrsample     \u001b[39m 1.0.0\n",
      "\u001b[32m✔\u001b[39m \u001b[34mdplyr       \u001b[39m 1.0.9     \u001b[32m✔\u001b[39m \u001b[34mtibble      \u001b[39m 3.1.7\n",
      "\u001b[32m✔\u001b[39m \u001b[34mggplot2     \u001b[39m 3.3.6     \u001b[32m✔\u001b[39m \u001b[34mtidyr       \u001b[39m 1.2.0\n",
      "\u001b[32m✔\u001b[39m \u001b[34minfer       \u001b[39m 1.0.2     \u001b[32m✔\u001b[39m \u001b[34mtune        \u001b[39m 1.0.0\n",
      "\u001b[32m✔\u001b[39m \u001b[34mmodeldata   \u001b[39m 1.0.0     \u001b[32m✔\u001b[39m \u001b[34mworkflows   \u001b[39m 1.0.0\n",
      "\u001b[32m✔\u001b[39m \u001b[34mparsnip     \u001b[39m 1.0.0     \u001b[32m✔\u001b[39m \u001b[34mworkflowsets\u001b[39m 1.0.0\n",
      "\u001b[32m✔\u001b[39m \u001b[34mpurrr       \u001b[39m 0.3.4     \u001b[32m✔\u001b[39m \u001b[34myardstick   \u001b[39m 1.0.0\n",
      "\n",
      "── \u001b[1mConflicts\u001b[22m ───────────────────────────────────────── tidymodels_conflicts() ──\n",
      "\u001b[31m✖\u001b[39m \u001b[34mpurrr\u001b[39m::\u001b[32mdiscard()\u001b[39m masks \u001b[34mscales\u001b[39m::discard()\n",
      "\u001b[31m✖\u001b[39m \u001b[34mdplyr\u001b[39m::\u001b[32mfilter()\u001b[39m  masks \u001b[34mstats\u001b[39m::filter()\n",
      "\u001b[31m✖\u001b[39m \u001b[34mdplyr\u001b[39m::\u001b[32mlag()\u001b[39m     masks \u001b[34mstats\u001b[39m::lag()\n",
      "\u001b[31m✖\u001b[39m \u001b[34mrecipes\u001b[39m::\u001b[32mstep()\u001b[39m  masks \u001b[34mstats\u001b[39m::step()\n",
      "\u001b[34m•\u001b[39m Dig deeper into tidy modeling with R at \u001b[32mhttps://www.tmwr.org\u001b[39m\n",
      "\n",
      "── \u001b[1mAttaching packages\u001b[22m ─────────────────────────────────────── tidyverse 1.3.1 ──\n",
      "\n",
      "\u001b[32m✔\u001b[39m \u001b[34mreadr  \u001b[39m 2.1.2     \u001b[32m✔\u001b[39m \u001b[34mforcats\u001b[39m 0.5.1\n",
      "\u001b[32m✔\u001b[39m \u001b[34mstringr\u001b[39m 1.4.0     \n",
      "\n",
      "── \u001b[1mConflicts\u001b[22m ────────────────────────────────────────── tidyverse_conflicts() ──\n",
      "\u001b[31m✖\u001b[39m \u001b[34mreadr\u001b[39m::\u001b[32mcol_factor()\u001b[39m masks \u001b[34mscales\u001b[39m::col_factor()\n",
      "\u001b[31m✖\u001b[39m \u001b[34mpurrr\u001b[39m::\u001b[32mdiscard()\u001b[39m    masks \u001b[34mscales\u001b[39m::discard()\n",
      "\u001b[31m✖\u001b[39m \u001b[34mdplyr\u001b[39m::\u001b[32mfilter()\u001b[39m     masks \u001b[34mstats\u001b[39m::filter()\n",
      "\u001b[31m✖\u001b[39m \u001b[34mstringr\u001b[39m::\u001b[32mfixed()\u001b[39m    masks \u001b[34mrecipes\u001b[39m::fixed()\n",
      "\u001b[31m✖\u001b[39m \u001b[34mdplyr\u001b[39m::\u001b[32mlag()\u001b[39m        masks \u001b[34mstats\u001b[39m::lag()\n",
      "\u001b[31m✖\u001b[39m \u001b[34mreadr\u001b[39m::\u001b[32mspec()\u001b[39m       masks \u001b[34myardstick\u001b[39m::spec()\n",
      "\n"
     ]
    }
   ],
   "source": [
    "#loading all packages\n",
    "library(tidymodels)\n",
    "library(tidyverse)\n",
    "library(repr)"
   ]
  },
  {
   "cell_type": "code",
   "execution_count": 2,
   "id": "5b462dc7-7bff-4f55-b816-e0628d826c5f",
   "metadata": {},
   "outputs": [
    {
     "name": "stderr",
     "output_type": "stream",
     "text": [
      "\u001b[1mRows: \u001b[22m\u001b[34m303\u001b[39m \u001b[1mColumns: \u001b[22m\u001b[34m14\u001b[39m\n",
      "\u001b[36m──\u001b[39m \u001b[1mColumn specification\u001b[22m \u001b[36m────────────────────────────────────────────────────────\u001b[39m\n",
      "\u001b[1mDelimiter:\u001b[22m \",\"\n",
      "\u001b[31mchr\u001b[39m  (2): X12, X13\n",
      "\u001b[32mdbl\u001b[39m (12): X1, X2, X3, X4, X5, X6, X7, X8, X9, X10, X11, X14\n",
      "\n",
      "\u001b[36mℹ\u001b[39m Use `spec()` to retrieve the full column specification for this data.\n",
      "\u001b[36mℹ\u001b[39m Specify the column types or set `show_col_types = FALSE` to quiet this message.\n"
     ]
    }
   ],
   "source": [
    "#read csv file from UCI\n",
    "url <- \"https://archive.ics.uci.edu/ml/machine-learning-databases/heart-disease/processed.cleveland.data\"\n",
    "heart_data <- read_csv(url, col_names = FALSE)"
   ]
  },
  {
   "cell_type": "code",
   "execution_count": 6,
   "id": "f969d947-3214-4b16-958f-688b0502f4fe",
   "metadata": {},
   "outputs": [
    {
     "ename": "ERROR",
     "evalue": "\u001b[1m\u001b[33mError\u001b[39m in \u001b[1m\u001b[1m`chr_as_locations()`:\u001b[22m\n\u001b[33m!\u001b[39m Can't rename columns that don't exist.\n\u001b[31m✖\u001b[39m Column `X1` doesn't exist.\n",
     "output_type": "error",
     "traceback": [
      "\u001b[1m\u001b[33mError\u001b[39m in \u001b[1m\u001b[1m`chr_as_locations()`:\u001b[22m\n\u001b[33m!\u001b[39m Can't rename columns that don't exist.\n\u001b[31m✖\u001b[39m Column `X1` doesn't exist.\nTraceback:\n",
      "1. rename(heart_data, Age = X1, Sex = X2, Chest_Pain_Type = X3, \n .     Resting_Blood_Pressure = X4, Serum_Cholestoral = X5, Fasting_Blood_Sugar = X6, \n .     Resting_Electrocardiographic_Results = X7, Maximum_Heart_Rate = X8, \n .     Exercise_Induced_Angina = X9, ST_Depression = X10, Slope_Peak_excercise = X11, \n .     Major_Vessels = X12, Thalassemia = X13, Heart_Disease = X14)",
      "2. rename.data.frame(heart_data, Age = X1, Sex = X2, Chest_Pain_Type = X3, \n .     Resting_Blood_Pressure = X4, Serum_Cholestoral = X5, Fasting_Blood_Sugar = X6, \n .     Resting_Electrocardiographic_Results = X7, Maximum_Heart_Rate = X8, \n .     Exercise_Induced_Angina = X9, ST_Depression = X10, Slope_Peak_excercise = X11, \n .     Major_Vessels = X12, Thalassemia = X13, Heart_Disease = X14)",
      "3. tidyselect::eval_rename(expr(c(...)), .data)",
      "4. rename_impl(data, names(data), as_quosure(expr, env), strict = strict, \n .     name_spec = name_spec, error_call = error_call)",
      "5. eval_select_impl(x, names, {\n .     {\n .         sel\n .     }\n . }, strict = strict, name_spec = name_spec, type = \"rename\", error_call = error_call)",
      "6. with_subscript_errors(vars_select_eval(vars, expr, strict = strict, \n .     data = x, name_spec = name_spec, uniquely_named = uniquely_named, \n .     allow_rename = allow_rename, type = type, error_call = error_call), \n .     type = type)",
      "7. tryCatch(with_entraced_errors(expr), vctrs_error_subscript = function(cnd) {\n .     cnd$subscript_action <- subscript_action(type)\n .     cnd$subscript_elt <- \"column\"\n .     cnd_signal(cnd)\n . })",
      "8. tryCatchList(expr, classes, parentenv, handlers)",
      "9. tryCatchOne(expr, names, parentenv, handlers[[1L]])",
      "10. value[[3L]](cond)",
      "11. cnd_signal(cnd)",
      "12. signal_abort(cnd)"
     ]
    }
   ],
   "source": [
    "# Cleaning and wrangling data\n",
    "# Added meaningful column names. \n",
    "# We changed the orignal attribute name \"num\" to \"Heart_Disease\" because \"num\" had little meaning\n",
    "\n",
    "set.seed(1)\n",
    "\n",
    "heart_data <- rename(heart_data,\n",
    "                     Age = X1,\n",
    "                     Sex = X2,\n",
    "                     Chest_Pain_Type = X3,\n",
    "                     Resting_Blood_Pressure = X4,\n",
    "                     Serum_Cholestoral = X5,\n",
    "                     Fasting_Blood_Sugar = X6,\n",
    "                     Resting_Electrocardiographic_Results = X7,\n",
    "                     Maximum_Heart_Rate = X8,\n",
    "                     Exercise_Induced_Angina = X9,\n",
    "                     ST_Depression = X10,\n",
    "                     Slope_Peak_excercise = X11,\n",
    "                     Major_Vessels = X12,\n",
    "                     Thalassemia = X13,\n",
    "                     Heart_Disease = X14)"
   ]
  },
  {
   "cell_type": "code",
   "execution_count": null,
   "id": "bc5a7008-8d11-4ba7-a757-233c819bbef5",
   "metadata": {},
   "outputs": [],
   "source": [
    "# We only want to know if each patient is tested positive or negative for heart disease\n",
    "# This means we only need the numbers 0 (negative) and 1 (postive) and want to remove other numbers\n",
    "# We reassigned the numbers 2, 3, and 4 to 1 because numbers that are greater 1 also mean that the patient has heart disease\n",
    "\n",
    "heart_data$Heart_Disease[heart_data$Heart_Disease== \"4\"]<- \"1\"\n",
    "heart_data$Heart_Disease[heart_data$Heart_Disease== \"3\"]<- \"1\"\n",
    "heart_data$Heart_Disease[heart_data$Heart_Disease== \"2\"]<- \"1\"\n",
    "\n",
    "heart_data"
   ]
  },
  {
   "cell_type": "code",
   "execution_count": null,
   "id": "43b65bce-4c17-4c43-a908-6cba8294ad81",
   "metadata": {},
   "outputs": [],
   "source": [
    "# summarizing the data in one table\n",
    "\n",
    "summary_table <- summarize(heart_data,\n",
    "                   mean_age = mean(Age, na.rm = TRUE),\n",
    "                   median_age = median(Age, na.rm = TRUE),\n",
    "                   mean_resting_blood_pressure = mean(Resting_Blood_Pressure, na.rm = TRUE),\n",
    "                   median_resting_blood_pressure = median(Resting_Blood_Pressure, na.rm = TRUE),\n",
    "                   mean_max_heart_rate = mean(Maximum_Heart_Rate, na.rm = TRUE),\n",
    "                   median_max_heart_rate = median(Maximum_Heart_Rate, na.rm = TRUE),\n",
    "                   number_heart_disease_0 = length(which(heart_data$Heart_Disease==0)),\n",
    "                   number_heart_disease_1 = length(which(heart_data$Heart_Disease==1)),\n",
    "                   number_rows_missing_data = sum(is.na(heart_data)))\n",
    "\n",
    "\n",
    "\n",
    "summary_table\n"
   ]
  },
  {
   "cell_type": "code",
   "execution_count": null,
   "id": "3b4ebdb9-b98d-4d05-b0cf-42f76e71e6cb",
   "metadata": {},
   "outputs": [],
   "source": [
    "# visualizing the data with at least one plot relevant to the analysis we plan to do \n",
    "\n",
    "heart_split <- initial_split(ckd_data, prop = 0.75, strata = num) \n",
    "heart_train <- training(heart_split)   \n",
    "heart_test <- testing(heart_split)\n",
    "\n",
    "heart_train\n",
    "heart_test\n",
    "\n",
    "#use box plots\n",
    "#funny"
   ]
  },
  {
   "cell_type": "code",
   "execution_count": null,
   "id": "c2af0d0c-fe9d-4ffd-8491-68a574a988f9",
   "metadata": {},
   "outputs": [],
   "source": [
    "#Visulaizations (3) will consist of: \n",
    "#   age vs cholesterol (colored with heart disease) \n",
    "#   age vs resting heart rate (colored with heart disease) \n",
    "#   age vs sex (colored with heart disease) "
   ]
  },
  {
   "cell_type": "code",
   "execution_count": 4,
   "id": "566b4ff0-659b-48e8-b6ea-5921cbbb9bb1",
   "metadata": {
    "tags": []
   },
   "outputs": [
    {
     "name": "stderr",
     "output_type": "stream",
     "text": [
      "ERROR while rich displaying an object: Error in FUN(X[[i]], ...): object 'Age' not found\n",
      "\n",
      "Traceback:\n",
      "1. tryCatch(withCallingHandlers({\n",
      " .     if (!mime %in% names(repr::mime2repr)) \n",
      " .         stop(\"No repr_* for mimetype \", mime, \" in repr::mime2repr\")\n",
      " .     rpr <- repr::mime2repr[[mime]](obj)\n",
      " .     if (is.null(rpr)) \n",
      " .         return(NULL)\n",
      " .     prepare_content(is.raw(rpr), rpr)\n",
      " . }, error = error_handler), error = outer_handler)\n",
      "2. tryCatchList(expr, classes, parentenv, handlers)\n",
      "3. tryCatchOne(expr, names, parentenv, handlers[[1L]])\n",
      "4. doTryCatch(return(expr), name, parentenv, handler)\n",
      "5. withCallingHandlers({\n",
      " .     if (!mime %in% names(repr::mime2repr)) \n",
      " .         stop(\"No repr_* for mimetype \", mime, \" in repr::mime2repr\")\n",
      " .     rpr <- repr::mime2repr[[mime]](obj)\n",
      " .     if (is.null(rpr)) \n",
      " .         return(NULL)\n",
      " .     prepare_content(is.raw(rpr), rpr)\n",
      " . }, error = error_handler)\n",
      "6. repr::mime2repr[[mime]](obj)\n",
      "7. repr_text.default(obj)\n",
      "8. paste(capture.output(print(obj)), collapse = \"\\n\")\n",
      "9. capture.output(print(obj))\n",
      "10. withVisible(...elt(i))\n",
      "11. print(obj)\n",
      "12. print.ggplot(obj)\n",
      "13. ggplot_build(x)\n",
      "14. ggplot_build.ggplot(x)\n",
      "15. by_layer(function(l, d) l$compute_aesthetics(d, plot))\n",
      "16. f(l = layers[[i]], d = data[[i]])\n",
      "17. l$compute_aesthetics(d, plot)\n",
      "18. f(..., self = self)\n",
      "19. scales_add_defaults(plot$scales, data, aesthetics, plot$plot_env)\n",
      "20. lapply(aesthetics[new_aesthetics], eval_tidy, data = data)\n",
      "21. FUN(X[[i]], ...)\n"
     ]
    },
    {
     "data": {
      "image/png": "[encoded data removed]",
      "text/plain": [
       "plot without title"
      ]
     },
     "metadata": {
      "image/png": {
       "height": 420,
       "width": 420
      }
     },
     "output_type": "display_data"
    }
   ],
   "source": [
    "age_vs_cholesterol <- heart_data |>\n",
    "    ggplot(aes(x = Age, y = Serum_Cholestoral, colour = Heart_Disease)) +\n",
    "    geom_point(alpha = 0.6) +\n",
    "    xlab(\"Age\") +\n",
    "    ylab(\"Cholestoral\") +\n",
    "    labs(color = \"Diagnosis\") +\n",
    "    scale_color_manual(labels = c(\"Heart Disease\", \"No Heart Disease\"), values = c(\"orange2\", \"steelblue2\")) +\n",
    "    theme(text = element_text(size = 25))\n",
    "age_vs_cholesterol"
   ]
  },
  {
   "cell_type": "code",
   "execution_count": null,
   "id": "eed974ab-b2fd-4e60-8fd9-9554f0934ef6",
   "metadata": {
    "tags": []
   },
   "outputs": [],
   "source": [
    "age_vs_HeartRate <- heart_data |>\n",
    "    ggplot(aes(x = Age, y = Maximum_Heart_Rate, colour = Heart_Disease)) +\n",
    "    geom_point(alpha = 0.6) +\n",
    "    xlab(\"Age\") +\n",
    "    ylab(\"Maximum Heart Rate\") +\n",
    "    labs(color = \"Diagnosis\") +\n",
    "    scale_color_manual(labels = c(\"Heart Disease\", \"No Heart Disease\"), values = c(\"orange2\", \"steelblue2\")) +\n",
    "    theme(text = element_text(size = 25))\n",
    "age_vs_HeartRate\n"
   ]
  },
  {
   "cell_type": "code",
   "execution_count": null,
   "id": "db8c49eb-aa3b-484f-89c6-bc2812e39ff4",
   "metadata": {},
   "outputs": [],
   "source": [
    "age_vs_Sex <- heart_data |>\n",
    "    ggplot(aes(x = Age, y = Sex, colour = Heart_Disease)) +\n",
    "    geom_point(alpha = 0.6) +\n",
    "    xlab(\"Age\") +\n",
    "    ylab(\"Sex\") +\n",
    "    labs(color = \"Diagnosis\") +\n",
    "    scale_color_manual(labels = c(\"Heart Disease\", \"No Heart Disease\"), values = c(\"orange2\", \"steelblue2\")) +\n",
    "    theme(text = element_text(size = 25))\n",
    "age_vs_Sex\n",
    "\n"
   ]
  }
 ],
 "metadata": {
  "kernelspec": {
   "display_name": "R",
   "language": "R",
   "name": "ir"
  },
  "language_info": {
   "codemirror_mode": "r",
   "file_extension": ".r",
   "mimetype": "text/x-r-source",
   "name": "R",
   "pygments_lexer": "r",
   "version": "4.1.3"
  }
 },
 "nbformat": 4,
 "nbformat_minor": 5
}
