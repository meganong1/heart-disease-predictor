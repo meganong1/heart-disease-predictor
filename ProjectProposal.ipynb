{
 "cells": [
  {
   "cell_type": "code",
   "execution_count": 2,
   "id": "f6894aba-eb23-4eb8-a2d2-b32ced82ad47",
   "metadata": {},
   "outputs": [
    {
     "name": "stderr",
     "output_type": "stream",
     "text": [
      "── \u001b[1mAttaching packages\u001b[22m ─────────────────────────────────────── tidyverse 1.3.1 ──\n",
      "\n",
      "\u001b[32m✔\u001b[39m \u001b[34mggplot2\u001b[39m 3.3.6     \u001b[32m✔\u001b[39m \u001b[34mpurrr  \u001b[39m 0.3.4\n",
      "\u001b[32m✔\u001b[39m \u001b[34mtibble \u001b[39m 3.1.7     \u001b[32m✔\u001b[39m \u001b[34mdplyr  \u001b[39m 1.0.9\n",
      "\u001b[32m✔\u001b[39m \u001b[34mtidyr  \u001b[39m 1.2.0     \u001b[32m✔\u001b[39m \u001b[34mstringr\u001b[39m 1.4.0\n",
      "\u001b[32m✔\u001b[39m \u001b[34mreadr  \u001b[39m 2.1.2     \u001b[32m✔\u001b[39m \u001b[34mforcats\u001b[39m 0.5.1\n",
      "\n",
      "── \u001b[1mConflicts\u001b[22m ────────────────────────────────────────── tidyverse_conflicts() ──\n",
      "\u001b[31m✖\u001b[39m \u001b[34mdplyr\u001b[39m::\u001b[32mfilter()\u001b[39m masks \u001b[34mstats\u001b[39m::filter()\n",
      "\u001b[31m✖\u001b[39m \u001b[34mdplyr\u001b[39m::\u001b[32mlag()\u001b[39m    masks \u001b[34mstats\u001b[39m::lag()\n",
      "\n",
      "── \u001b[1mAttaching packages\u001b[22m ────────────────────────────────────── tidymodels 1.0.0 ──\n",
      "\n",
      "\u001b[32m✔\u001b[39m \u001b[34mbroom       \u001b[39m 1.0.0     \u001b[32m✔\u001b[39m \u001b[34mrsample     \u001b[39m 1.0.0\n",
      "\u001b[32m✔\u001b[39m \u001b[34mdials       \u001b[39m 1.0.0     \u001b[32m✔\u001b[39m \u001b[34mtune        \u001b[39m 1.0.0\n",
      "\u001b[32m✔\u001b[39m \u001b[34minfer       \u001b[39m 1.0.2     \u001b[32m✔\u001b[39m \u001b[34mworkflows   \u001b[39m 1.0.0\n",
      "\u001b[32m✔\u001b[39m \u001b[34mmodeldata   \u001b[39m 1.0.0     \u001b[32m✔\u001b[39m \u001b[34mworkflowsets\u001b[39m 1.0.0\n",
      "\u001b[32m✔\u001b[39m \u001b[34mparsnip     \u001b[39m 1.0.0     \u001b[32m✔\u001b[39m \u001b[34myardstick   \u001b[39m 1.0.0\n",
      "\u001b[32m✔\u001b[39m \u001b[34mrecipes     \u001b[39m 1.0.1     \n",
      "\n",
      "── \u001b[1mConflicts\u001b[22m ───────────────────────────────────────── tidymodels_conflicts() ──\n",
      "\u001b[31m✖\u001b[39m \u001b[34mscales\u001b[39m::\u001b[32mdiscard()\u001b[39m masks \u001b[34mpurrr\u001b[39m::discard()\n",
      "\u001b[31m✖\u001b[39m \u001b[34mdplyr\u001b[39m::\u001b[32mfilter()\u001b[39m   masks \u001b[34mstats\u001b[39m::filter()\n",
      "\u001b[31m✖\u001b[39m \u001b[34mrecipes\u001b[39m::\u001b[32mfixed()\u001b[39m  masks \u001b[34mstringr\u001b[39m::fixed()\n",
      "\u001b[31m✖\u001b[39m \u001b[34mdplyr\u001b[39m::\u001b[32mlag()\u001b[39m      masks \u001b[34mstats\u001b[39m::lag()\n",
      "\u001b[31m✖\u001b[39m \u001b[34myardstick\u001b[39m::\u001b[32mspec()\u001b[39m masks \u001b[34mreadr\u001b[39m::spec()\n",
      "\u001b[31m✖\u001b[39m \u001b[34mrecipes\u001b[39m::\u001b[32mstep()\u001b[39m   masks \u001b[34mstats\u001b[39m::step()\n",
      "\u001b[34m•\u001b[39m Dig deeper into tidy modeling with R at \u001b[32mhttps://www.tmwr.org\u001b[39m\n",
      "\n",
      "Warning message in file(filename, \"r\", encoding = encoding):\n",
      "“cannot open file 'tests.R': No such file or directory”\n"
     ]
    },
    {
     "ename": "ERROR",
     "evalue": "Error in file(filename, \"r\", encoding = encoding): cannot open the connection\n",
     "output_type": "error",
     "traceback": [
      "Error in file(filename, \"r\", encoding = encoding): cannot open the connection\nTraceback:\n",
      "1. source(\"tests.R\")",
      "2. file(filename, \"r\", encoding = encoding)"
     ]
    }
   ],
   "source": [
    "library(tidyverse)\n",
    "library(repr)\n",
    "library(tidymodels)\n",
    "options(repr.matrix.max.rows = 6)\n",
    "source('tests.R')\n",
    "source(\"cleanup.R\")"
   ]
  },
  {
   "cell_type": "code",
   "execution_count": 41,
   "id": "5b462dc7-7bff-4f55-b816-e0628d826c5f",
   "metadata": {},
   "outputs": [
    {
     "name": "stderr",
     "output_type": "stream",
     "text": [
      "\u001b[1mRows: \u001b[22m\u001b[34m303\u001b[39m \u001b[1mColumns: \u001b[22m\u001b[34m14\u001b[39m\n",
      "\u001b[36m──\u001b[39m \u001b[1mColumn specification\u001b[22m \u001b[36m────────────────────────────────────────────────────────\u001b[39m\n",
      "\u001b[1mDelimiter:\u001b[22m \",\"\n",
      "\u001b[31mchr\u001b[39m  (2): X12, X13\n",
      "\u001b[32mdbl\u001b[39m (12): X1, X2, X3, X4, X5, X6, X7, X8, X9, X10, X11, X14\n",
      "\n",
      "\u001b[36mℹ\u001b[39m Use `spec()` to retrieve the full column specification for this data.\n",
      "\u001b[36mℹ\u001b[39m Specify the column types or set `show_col_types = FALSE` to quiet this message.\n"
     ]
    },
    {
     "data": {
      "text/html": [
       "<table class=\"dataframe\">\n",
       "<caption>A spec_tbl_df: 303 × 14</caption>\n",
       "<thead>\n",
       "\t<tr><th scope=col>Age</th><th scope=col>Sex</th><th scope=col>Chest_Pain_Type</th><th scope=col>Resting_Blood_Pressure</th><th scope=col>Serum_Cholestoral</th><th scope=col>Fasting_Blood_Sugar</th><th scope=col>Resting_Electrocardiographic_Results</th><th scope=col>Maximum_Heart_Rate</th><th scope=col>Exercise_Induced_Angina</th><th scope=col>ST_Depression</th><th scope=col>Slope_Peak_excercise</th><th scope=col>Major_Vessels</th><th scope=col>Thalassemia</th><th scope=col>Diagnosis</th></tr>\n",
       "\t<tr><th scope=col>&lt;dbl&gt;</th><th scope=col>&lt;dbl&gt;</th><th scope=col>&lt;dbl&gt;</th><th scope=col>&lt;dbl&gt;</th><th scope=col>&lt;dbl&gt;</th><th scope=col>&lt;dbl&gt;</th><th scope=col>&lt;dbl&gt;</th><th scope=col>&lt;dbl&gt;</th><th scope=col>&lt;dbl&gt;</th><th scope=col>&lt;dbl&gt;</th><th scope=col>&lt;dbl&gt;</th><th scope=col>&lt;chr&gt;</th><th scope=col>&lt;chr&gt;</th><th scope=col>&lt;dbl&gt;</th></tr>\n",
       "</thead>\n",
       "<tbody>\n",
       "\t<tr><td>63</td><td>1</td><td>1</td><td>145</td><td>233</td><td>1</td><td>2</td><td>150</td><td>0</td><td>2.3</td><td>3</td><td>0.0</td><td>6.0</td><td>0</td></tr>\n",
       "\t<tr><td>67</td><td>1</td><td>4</td><td>160</td><td>286</td><td>0</td><td>2</td><td>108</td><td>1</td><td>1.5</td><td>2</td><td>3.0</td><td>3.0</td><td>2</td></tr>\n",
       "\t<tr><td>67</td><td>1</td><td>4</td><td>120</td><td>229</td><td>0</td><td>2</td><td>129</td><td>1</td><td>2.6</td><td>2</td><td>2.0</td><td>7.0</td><td>1</td></tr>\n",
       "\t<tr><td>⋮</td><td>⋮</td><td>⋮</td><td>⋮</td><td>⋮</td><td>⋮</td><td>⋮</td><td>⋮</td><td>⋮</td><td>⋮</td><td>⋮</td><td>⋮</td><td>⋮</td><td>⋮</td></tr>\n",
       "\t<tr><td>57</td><td>1</td><td>4</td><td>130</td><td>131</td><td>0</td><td>0</td><td>115</td><td>1</td><td>1.2</td><td>2</td><td>1.0</td><td>7.0</td><td>3</td></tr>\n",
       "\t<tr><td>57</td><td>0</td><td>2</td><td>130</td><td>236</td><td>0</td><td>2</td><td>174</td><td>0</td><td>0.0</td><td>2</td><td>1.0</td><td>3.0</td><td>1</td></tr>\n",
       "\t<tr><td>38</td><td>1</td><td>3</td><td>138</td><td>175</td><td>0</td><td>0</td><td>173</td><td>0</td><td>0.0</td><td>1</td><td>?  </td><td>3.0</td><td>0</td></tr>\n",
       "</tbody>\n",
       "</table>\n"
      ],
      "text/latex": [
       "A spec\\_tbl\\_df: 303 × 14\n",
       "\\begin{tabular}{llllllllllllll}\n",
       " Age & Sex & Chest\\_Pain\\_Type & Resting\\_Blood\\_Pressure & Serum\\_Cholestoral & Fasting\\_Blood\\_Sugar & Resting\\_Electrocardiographic\\_Results & Maximum\\_Heart\\_Rate & Exercise\\_Induced\\_Angina & ST\\_Depression & Slope\\_Peak\\_excercise & Major\\_Vessels & Thalassemia & Diagnosis\\\\\n",
       " <dbl> & <dbl> & <dbl> & <dbl> & <dbl> & <dbl> & <dbl> & <dbl> & <dbl> & <dbl> & <dbl> & <chr> & <chr> & <dbl>\\\\\n",
       "\\hline\n",
       "\t 63 & 1 & 1 & 145 & 233 & 1 & 2 & 150 & 0 & 2.3 & 3 & 0.0 & 6.0 & 0\\\\\n",
       "\t 67 & 1 & 4 & 160 & 286 & 0 & 2 & 108 & 1 & 1.5 & 2 & 3.0 & 3.0 & 2\\\\\n",
       "\t 67 & 1 & 4 & 120 & 229 & 0 & 2 & 129 & 1 & 2.6 & 2 & 2.0 & 7.0 & 1\\\\\n",
       "\t ⋮ & ⋮ & ⋮ & ⋮ & ⋮ & ⋮ & ⋮ & ⋮ & ⋮ & ⋮ & ⋮ & ⋮ & ⋮ & ⋮\\\\\n",
       "\t 57 & 1 & 4 & 130 & 131 & 0 & 0 & 115 & 1 & 1.2 & 2 & 1.0 & 7.0 & 3\\\\\n",
       "\t 57 & 0 & 2 & 130 & 236 & 0 & 2 & 174 & 0 & 0.0 & 2 & 1.0 & 3.0 & 1\\\\\n",
       "\t 38 & 1 & 3 & 138 & 175 & 0 & 0 & 173 & 0 & 0.0 & 1 & ?   & 3.0 & 0\\\\\n",
       "\\end{tabular}\n"
      ],
      "text/markdown": [
       "\n",
       "A spec_tbl_df: 303 × 14\n",
       "\n",
       "| Age &lt;dbl&gt; | Sex &lt;dbl&gt; | Chest_Pain_Type &lt;dbl&gt; | Resting_Blood_Pressure &lt;dbl&gt; | Serum_Cholestoral &lt;dbl&gt; | Fasting_Blood_Sugar &lt;dbl&gt; | Resting_Electrocardiographic_Results &lt;dbl&gt; | Maximum_Heart_Rate &lt;dbl&gt; | Exercise_Induced_Angina &lt;dbl&gt; | ST_Depression &lt;dbl&gt; | Slope_Peak_excercise &lt;dbl&gt; | Major_Vessels &lt;chr&gt; | Thalassemia &lt;chr&gt; | Diagnosis &lt;dbl&gt; |\n",
       "|---|---|---|---|---|---|---|---|---|---|---|---|---|---|\n",
       "| 63 | 1 | 1 | 145 | 233 | 1 | 2 | 150 | 0 | 2.3 | 3 | 0.0 | 6.0 | 0 |\n",
       "| 67 | 1 | 4 | 160 | 286 | 0 | 2 | 108 | 1 | 1.5 | 2 | 3.0 | 3.0 | 2 |\n",
       "| 67 | 1 | 4 | 120 | 229 | 0 | 2 | 129 | 1 | 2.6 | 2 | 2.0 | 7.0 | 1 |\n",
       "| ⋮ | ⋮ | ⋮ | ⋮ | ⋮ | ⋮ | ⋮ | ⋮ | ⋮ | ⋮ | ⋮ | ⋮ | ⋮ | ⋮ |\n",
       "| 57 | 1 | 4 | 130 | 131 | 0 | 0 | 115 | 1 | 1.2 | 2 | 1.0 | 7.0 | 3 |\n",
       "| 57 | 0 | 2 | 130 | 236 | 0 | 2 | 174 | 0 | 0.0 | 2 | 1.0 | 3.0 | 1 |\n",
       "| 38 | 1 | 3 | 138 | 175 | 0 | 0 | 173 | 0 | 0.0 | 1 | ?   | 3.0 | 0 |\n",
       "\n"
      ],
      "text/plain": [
       "    Age Sex Chest_Pain_Type Resting_Blood_Pressure Serum_Cholestoral\n",
       "1   63  1   1               145                    233              \n",
       "2   67  1   4               160                    286              \n",
       "3   67  1   4               120                    229              \n",
       "⋮   ⋮   ⋮   ⋮               ⋮                      ⋮                \n",
       "301 57  1   4               130                    131              \n",
       "302 57  0   2               130                    236              \n",
       "303 38  1   3               138                    175              \n",
       "    Fasting_Blood_Sugar Resting_Electrocardiographic_Results Maximum_Heart_Rate\n",
       "1   1                   2                                    150               \n",
       "2   0                   2                                    108               \n",
       "3   0                   2                                    129               \n",
       "⋮   ⋮                   ⋮                                    ⋮                 \n",
       "301 0                   0                                    115               \n",
       "302 0                   2                                    174               \n",
       "303 0                   0                                    173               \n",
       "    Exercise_Induced_Angina ST_Depression Slope_Peak_excercise Major_Vessels\n",
       "1   0                       2.3           3                    0.0          \n",
       "2   1                       1.5           2                    3.0          \n",
       "3   1                       2.6           2                    2.0          \n",
       "⋮   ⋮                       ⋮             ⋮                    ⋮            \n",
       "301 1                       1.2           2                    1.0          \n",
       "302 0                       0.0           2                    1.0          \n",
       "303 0                       0.0           1                    ?            \n",
       "    Thalassemia Diagnosis\n",
       "1   6.0         0        \n",
       "2   3.0         2        \n",
       "3   7.0         1        \n",
       "⋮   ⋮           ⋮        \n",
       "301 7.0         3        \n",
       "302 3.0         1        \n",
       "303 3.0         0        "
      ]
     },
     "metadata": {},
     "output_type": "display_data"
    },
    {
     "data": {
      "text/html": [
       "<table class=\"dataframe\">\n",
       "<caption>A tibble: 5 × 7</caption>\n",
       "<thead>\n",
       "\t<tr><th scope=col>mean_age</th><th scope=col>median_age</th><th scope=col>mean_resting_blood_pressure</th><th scope=col>median_resting_blood_pressure</th><th scope=col>mean_max_heart_rate</th><th scope=col>median_max_heart_rate</th><th scope=col>number_diagnosis_1</th></tr>\n",
       "\t<tr><th scope=col>&lt;dbl&gt;</th><th scope=col>&lt;dbl&gt;</th><th scope=col>&lt;dbl&gt;</th><th scope=col>&lt;dbl&gt;</th><th scope=col>&lt;dbl&gt;</th><th scope=col>&lt;dbl&gt;</th><th scope=col>&lt;table&gt;</th></tr>\n",
       "</thead>\n",
       "<tbody>\n",
       "\t<tr><td>54.43894</td><td>56</td><td>131.6898</td><td>130</td><td>149.6073</td><td>153</td><td>164</td></tr>\n",
       "\t<tr><td>54.43894</td><td>56</td><td>131.6898</td><td>130</td><td>149.6073</td><td>153</td><td> 55</td></tr>\n",
       "\t<tr><td>54.43894</td><td>56</td><td>131.6898</td><td>130</td><td>149.6073</td><td>153</td><td> 36</td></tr>\n",
       "\t<tr><td>54.43894</td><td>56</td><td>131.6898</td><td>130</td><td>149.6073</td><td>153</td><td> 35</td></tr>\n",
       "\t<tr><td>54.43894</td><td>56</td><td>131.6898</td><td>130</td><td>149.6073</td><td>153</td><td> 13</td></tr>\n",
       "</tbody>\n",
       "</table>\n"
      ],
      "text/latex": [
       "A tibble: 5 × 7\n",
       "\\begin{tabular}{lllllll}\n",
       " mean\\_age & median\\_age & mean\\_resting\\_blood\\_pressure & median\\_resting\\_blood\\_pressure & mean\\_max\\_heart\\_rate & median\\_max\\_heart\\_rate & number\\_diagnosis\\_1\\\\\n",
       " <dbl> & <dbl> & <dbl> & <dbl> & <dbl> & <dbl> & <table>\\\\\n",
       "\\hline\n",
       "\t 54.43894 & 56 & 131.6898 & 130 & 149.6073 & 153 & 164\\\\\n",
       "\t 54.43894 & 56 & 131.6898 & 130 & 149.6073 & 153 &  55\\\\\n",
       "\t 54.43894 & 56 & 131.6898 & 130 & 149.6073 & 153 &  36\\\\\n",
       "\t 54.43894 & 56 & 131.6898 & 130 & 149.6073 & 153 &  35\\\\\n",
       "\t 54.43894 & 56 & 131.6898 & 130 & 149.6073 & 153 &  13\\\\\n",
       "\\end{tabular}\n"
      ],
      "text/markdown": [
       "\n",
       "A tibble: 5 × 7\n",
       "\n",
       "| mean_age &lt;dbl&gt; | median_age &lt;dbl&gt; | mean_resting_blood_pressure &lt;dbl&gt; | median_resting_blood_pressure &lt;dbl&gt; | mean_max_heart_rate &lt;dbl&gt; | median_max_heart_rate &lt;dbl&gt; | number_diagnosis_1 &lt;table&gt; |\n",
       "|---|---|---|---|---|---|---|\n",
       "| 54.43894 | 56 | 131.6898 | 130 | 149.6073 | 153 | 164 |\n",
       "| 54.43894 | 56 | 131.6898 | 130 | 149.6073 | 153 |  55 |\n",
       "| 54.43894 | 56 | 131.6898 | 130 | 149.6073 | 153 |  36 |\n",
       "| 54.43894 | 56 | 131.6898 | 130 | 149.6073 | 153 |  35 |\n",
       "| 54.43894 | 56 | 131.6898 | 130 | 149.6073 | 153 |  13 |\n",
       "\n"
      ],
      "text/plain": [
       "  mean_age median_age mean_resting_blood_pressure median_resting_blood_pressure\n",
       "1 54.43894 56         131.6898                    130                          \n",
       "2 54.43894 56         131.6898                    130                          \n",
       "3 54.43894 56         131.6898                    130                          \n",
       "4 54.43894 56         131.6898                    130                          \n",
       "5 54.43894 56         131.6898                    130                          \n",
       "  mean_max_heart_rate median_max_heart_rate number_diagnosis_1\n",
       "1 149.6073            153                   164               \n",
       "2 149.6073            153                    55               \n",
       "3 149.6073            153                    36               \n",
       "4 149.6073            153                    35               \n",
       "5 149.6073            153                    13               "
      ]
     },
     "metadata": {},
     "output_type": "display_data"
    }
   ],
   "source": [
    "url <- \"https://archive.ics.uci.edu/ml/machine-learning-databases/heart-disease/processed.cleveland.data\"\n",
    "heart_data_unnamed <- read_csv(url, col_names = FALSE)\n",
    "\n",
    "\n",
    "heart_data <- rename(heart_data_unnamed,\n",
    "                     Age = X1,\n",
    "                     Sex = X2,\n",
    "                     Chest_Pain_Type = X3,\n",
    "                     Resting_Blood_Pressure = X4,\n",
    "                     Serum_Cholestoral = X5,\n",
    "                     Fasting_Blood_Sugar = X6,\n",
    "                     Resting_Electrocardiographic_Results = X7,\n",
    "                     Maximum_Heart_Rate = X8,\n",
    "                     Exercise_Induced_Angina = X9,\n",
    "                     ST_Depression = X10,\n",
    "                     Slope_Peak_excercise = X11,\n",
    "                     Major_Vessels = X12,\n",
    "                     Thalassemia = X13,\n",
    "                     Diagnosis = X14)\n",
    "                     \n",
    "\n",
    "heart_data\n",
    "\n",
    "\n",
    "table <- summarize(heart_data,\n",
    "                   mean_age = mean(Age, na.rm = TRUE),\n",
    "                   median_age = median(Age, na.rm = TRUE),\n",
    "                   mean_resting_blood_pressure = mean(Resting_Blood_Pressure, na.rm = TRUE),\n",
    "                   median_resting_blood_pressure = median(Resting_Blood_Pressure, na.rm = TRUE),\n",
    "                   mean_max_heart_rate = mean(Maximum_Heart_Rate, na.rm = TRUE),\n",
    "                   median_max_heart_rate = median(Maximum_Heart_Rate, na.rm = TRUE),\n",
    "                   number_diagnosis_1 = table(heart_data$Diagnosis))\n",
    "\n",
    "\n",
    "\n",
    "table\n",
    "\n",
    "\n",
    "\n"
   ]
  },
  {
   "cell_type": "code",
   "execution_count": 25,
   "id": "3b4ebdb9-b98d-4d05-b0cf-42f76e71e6cb",
   "metadata": {},
   "outputs": [
    {
     "ename": "ERROR",
     "evalue": "Error in parse(text = x, srcfile = src): <text>:16:0: unexpected end of input\n14: # visualize the data with at least one plot relevant to the analysis you plan to do (this is exploratory data analysis)\n15: #use box plots\n   ^\n",
     "output_type": "error",
     "traceback": [
      "Error in parse(text = x, srcfile = src): <text>:16:0: unexpected end of input\n14: # visualize the data with at least one plot relevant to the analysis you plan to do (this is exploratory data analysis)\n15: #use box plots\n   ^\nTraceback:\n"
     ]
    }
   ],
   "source": [
    "heart_split <- initial_split(ckd_data, prop = 0.75, strata = num) \n",
    "heart_train <- training(heart_split)   \n",
    "heart_test <- testing(heart_split)\n",
    "\n",
    "heart_train\n",
    "heart_test\n",
    "\n",
    "\n",
    "# summarize the data in at least one table (this is exploratory data analysis), mean/median, note if we removed missing data\n",
    "heart_table <- ckd_train |> \n",
    "\n",
    "\n",
    "# visualize the data with at least one plot relevant to the analysis you plan to do (this is exploratory data analysis)\n",
    "#use box plots"
   ]
  },
  {
   "cell_type": "code",
   "execution_count": null,
   "id": "c2af0d0c-fe9d-4ffd-8491-68a574a988f9",
   "metadata": {},
   "outputs": [],
   "source": []
  },
  {
   "cell_type": "code",
   "execution_count": null,
   "id": "566b4ff0-659b-48e8-b6ea-5921cbbb9bb1",
   "metadata": {},
   "outputs": [],
   "source": []
  },
  {
   "cell_type": "code",
   "execution_count": null,
   "id": "eed974ab-b2fd-4e60-8fd9-9554f0934ef6",
   "metadata": {},
   "outputs": [],
   "source": []
  }
 ],
 "metadata": {
  "kernelspec": {
   "display_name": "R",
   "language": "R",
   "name": "ir"
  },
  "language_info": {
   "codemirror_mode": "r",
   "file_extension": ".r",
   "mimetype": "text/x-r-source",
   "name": "R",
   "pygments_lexer": "r",
   "version": "4.1.3"
  }
 },
 "nbformat": 4,
 "nbformat_minor": 5
}
