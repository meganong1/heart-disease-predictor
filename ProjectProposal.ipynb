{
 "cells": [
  {
   "cell_type": "code",
   "execution_count": 2,
   "id": "f6894aba-eb23-4eb8-a2d2-b32ced82ad47",
   "metadata": {},
   "outputs": [
    {
     "name": "stderr",
     "output_type": "stream",
     "text": [
      "── \u001b[1mAttaching packages\u001b[22m ─────────────────────────────────────── tidyverse 1.3.1 ──\n",
      "\n",
      "\u001b[32m✔\u001b[39m \u001b[34mggplot2\u001b[39m 3.3.6     \u001b[32m✔\u001b[39m \u001b[34mpurrr  \u001b[39m 0.3.4\n",
      "\u001b[32m✔\u001b[39m \u001b[34mtibble \u001b[39m 3.1.7     \u001b[32m✔\u001b[39m \u001b[34mdplyr  \u001b[39m 1.0.9\n",
      "\u001b[32m✔\u001b[39m \u001b[34mtidyr  \u001b[39m 1.2.0     \u001b[32m✔\u001b[39m \u001b[34mstringr\u001b[39m 1.4.0\n",
      "\u001b[32m✔\u001b[39m \u001b[34mreadr  \u001b[39m 2.1.2     \u001b[32m✔\u001b[39m \u001b[34mforcats\u001b[39m 0.5.1\n",
      "\n",
      "── \u001b[1mConflicts\u001b[22m ────────────────────────────────────────── tidyverse_conflicts() ──\n",
      "\u001b[31m✖\u001b[39m \u001b[34mdplyr\u001b[39m::\u001b[32mfilter()\u001b[39m masks \u001b[34mstats\u001b[39m::filter()\n",
      "\u001b[31m✖\u001b[39m \u001b[34mdplyr\u001b[39m::\u001b[32mlag()\u001b[39m    masks \u001b[34mstats\u001b[39m::lag()\n",
      "\n",
      "── \u001b[1mAttaching packages\u001b[22m ────────────────────────────────────── tidymodels 1.0.0 ──\n",
      "\n",
      "\u001b[32m✔\u001b[39m \u001b[34mbroom       \u001b[39m 1.0.0     \u001b[32m✔\u001b[39m \u001b[34mrsample     \u001b[39m 1.0.0\n",
      "\u001b[32m✔\u001b[39m \u001b[34mdials       \u001b[39m 1.0.0     \u001b[32m✔\u001b[39m \u001b[34mtune        \u001b[39m 1.0.0\n",
      "\u001b[32m✔\u001b[39m \u001b[34minfer       \u001b[39m 1.0.2     \u001b[32m✔\u001b[39m \u001b[34mworkflows   \u001b[39m 1.0.0\n",
      "\u001b[32m✔\u001b[39m \u001b[34mmodeldata   \u001b[39m 1.0.0     \u001b[32m✔\u001b[39m \u001b[34mworkflowsets\u001b[39m 1.0.0\n",
      "\u001b[32m✔\u001b[39m \u001b[34mparsnip     \u001b[39m 1.0.0     \u001b[32m✔\u001b[39m \u001b[34myardstick   \u001b[39m 1.0.0\n",
      "\u001b[32m✔\u001b[39m \u001b[34mrecipes     \u001b[39m 1.0.1     \n",
      "\n",
      "── \u001b[1mConflicts\u001b[22m ───────────────────────────────────────── tidymodels_conflicts() ──\n",
      "\u001b[31m✖\u001b[39m \u001b[34mscales\u001b[39m::\u001b[32mdiscard()\u001b[39m masks \u001b[34mpurrr\u001b[39m::discard()\n",
      "\u001b[31m✖\u001b[39m \u001b[34mdplyr\u001b[39m::\u001b[32mfilter()\u001b[39m   masks \u001b[34mstats\u001b[39m::filter()\n",
      "\u001b[31m✖\u001b[39m \u001b[34mrecipes\u001b[39m::\u001b[32mfixed()\u001b[39m  masks \u001b[34mstringr\u001b[39m::fixed()\n",
      "\u001b[31m✖\u001b[39m \u001b[34mdplyr\u001b[39m::\u001b[32mlag()\u001b[39m      masks \u001b[34mstats\u001b[39m::lag()\n",
      "\u001b[31m✖\u001b[39m \u001b[34myardstick\u001b[39m::\u001b[32mspec()\u001b[39m masks \u001b[34mreadr\u001b[39m::spec()\n",
      "\u001b[31m✖\u001b[39m \u001b[34mrecipes\u001b[39m::\u001b[32mstep()\u001b[39m   masks \u001b[34mstats\u001b[39m::step()\n",
      "\u001b[34m•\u001b[39m Dig deeper into tidy modeling with R at \u001b[32mhttps://www.tmwr.org\u001b[39m\n",
      "\n",
      "Warning message in file(filename, \"r\", encoding = encoding):\n",
      "“cannot open file 'tests.R': No such file or directory”\n"
     ]
    },
    {
     "ename": "ERROR",
     "evalue": "Error in file(filename, \"r\", encoding = encoding): cannot open the connection\n",
     "output_type": "error",
     "traceback": [
      "Error in file(filename, \"r\", encoding = encoding): cannot open the connection\nTraceback:\n",
      "1. source(\"tests.R\")",
      "2. file(filename, \"r\", encoding = encoding)"
     ]
    }
   ],
   "source": [
    "library(tidyverse)\n",
    "library(repr)\n",
    "library(tidymodels)\n",
    "options(repr.matrix.max.rows = 6)\n",
    "source('tests.R')\n",
    "source(\"cleanup.R\")"
   ]
  },
  {
   "cell_type": "code",
   "execution_count": 9,
   "id": "5b462dc7-7bff-4f55-b816-e0628d826c5f",
   "metadata": {},
   "outputs": [
    {
     "name": "stderr",
     "output_type": "stream",
     "text": [
      "\u001b[1mRows: \u001b[22m\u001b[34m200\u001b[39m \u001b[1mColumns: \u001b[22m\u001b[34m29\u001b[39m\n",
      "\u001b[36m──\u001b[39m \u001b[1mColumn specification\u001b[22m \u001b[36m────────────────────────────────────────────────────────\u001b[39m\n",
      "\u001b[1mDelimiter:\u001b[22m \",\"\n",
      "\u001b[31mchr\u001b[39m (16): X3, X4, X5, X7, X11, X12, X13, X14, X15, X16, X17, X18, X19, X26, ...\n",
      "\u001b[32mdbl\u001b[39m (13): X1, X2, X6, X8, X9, X10, X20, X21, X22, X23, X24, X25, X28\n",
      "\n",
      "\u001b[36mℹ\u001b[39m Use `spec()` to retrieve the full column specification for this data.\n",
      "\u001b[36mℹ\u001b[39m Specify the column types or set `show_col_types = FALSE` to quiet this message.\n"
     ]
    },
    {
     "data": {
      "text/html": [
       "<table class=\"dataframe\">\n",
       "<caption>A spec_tbl_df: 200 × 29</caption>\n",
       "<thead>\n",
       "\t<tr><th scope=col>bp_diastolic</th><th scope=col>bp_limit</th><th scope=col>sg</th><th scope=col>al</th><th scope=col>class</th><th scope=col>rbc</th><th scope=col>su</th><th scope=col>pc</th><th scope=col>pcc</th><th scope=col>ba</th><th scope=col>⋯</th><th scope=col>htn</th><th scope=col>dm</th><th scope=col>cad</th><th scope=col>appet</th><th scope=col>pe</th><th scope=col>ane</th><th scope=col>grf</th><th scope=col>stage</th><th scope=col>affected</th><th scope=col>age</th></tr>\n",
       "\t<tr><th scope=col>&lt;dbl&gt;</th><th scope=col>&lt;dbl&gt;</th><th scope=col>&lt;chr&gt;</th><th scope=col>&lt;chr&gt;</th><th scope=col>&lt;chr&gt;</th><th scope=col>&lt;dbl&gt;</th><th scope=col>&lt;chr&gt;</th><th scope=col>&lt;dbl&gt;</th><th scope=col>&lt;dbl&gt;</th><th scope=col>&lt;dbl&gt;</th><th scope=col>⋯</th><th scope=col>&lt;dbl&gt;</th><th scope=col>&lt;dbl&gt;</th><th scope=col>&lt;dbl&gt;</th><th scope=col>&lt;dbl&gt;</th><th scope=col>&lt;dbl&gt;</th><th scope=col>&lt;dbl&gt;</th><th scope=col>&lt;chr&gt;</th><th scope=col>&lt;chr&gt;</th><th scope=col>&lt;dbl&gt;</th><th scope=col>&lt;chr&gt;</th></tr>\n",
       "</thead>\n",
       "<tbody>\n",
       "\t<tr><td>0</td><td>0</td><td>1.019 - 1.021</td><td>1 - 1</td><td>ckd</td><td>0</td><td>&lt; 0</td><td>0</td><td>0</td><td>0</td><td>⋯</td><td>0</td><td>0</td><td>0</td><td>0</td><td>0</td><td>0</td><td><span style=white-space:pre-wrap>≥ 227.944        </span></td><td>s1</td><td>1</td><td>&lt; 12</td></tr>\n",
       "\t<tr><td>0</td><td>0</td><td>1.009 - 1.011</td><td><span style=white-space:pre-wrap>&lt; 0  </span></td><td>ckd</td><td>0</td><td>&lt; 0</td><td>0</td><td>0</td><td>0</td><td>⋯</td><td>0</td><td>0</td><td>0</td><td>0</td><td>0</td><td>0</td><td><span style=white-space:pre-wrap>≥ 227.944        </span></td><td>s1</td><td>1</td><td>&lt; 12</td></tr>\n",
       "\t<tr><td>0</td><td>0</td><td>1.009 - 1.011</td><td><span style=white-space:pre-wrap>≥ 4  </span></td><td>ckd</td><td>1</td><td>&lt; 0</td><td>1</td><td>0</td><td>1</td><td>⋯</td><td>0</td><td>0</td><td>0</td><td>1</td><td>0</td><td>0</td><td>127.281 - 152.446</td><td>s1</td><td>1</td><td>&lt; 12</td></tr>\n",
       "\t<tr><td>⋮</td><td>⋮</td><td>⋮</td><td>⋮</td><td>⋮</td><td>⋮</td><td>⋮</td><td>⋮</td><td>⋮</td><td>⋮</td><td>⋱</td><td>⋮</td><td>⋮</td><td>⋮</td><td>⋮</td><td>⋮</td><td>⋮</td><td>⋮</td><td>⋮</td><td>⋮</td><td>⋮</td></tr>\n",
       "\t<tr><td>1</td><td>1</td><td><span style=white-space:pre-wrap>≥ 1.023      </span></td><td><span style=white-space:pre-wrap>&lt; 0  </span></td><td>notckd</td><td>0</td><td><span style=white-space:pre-wrap>&lt; 0  </span></td><td>0</td><td>0</td><td>0</td><td>⋯</td><td>0</td><td>0</td><td>0</td><td>0</td><td>0</td><td>0</td><td>51.7832 - 76.949 </td><td>s2</td><td>0</td><td>≥ 74</td></tr>\n",
       "\t<tr><td>1</td><td>1</td><td><span style=white-space:pre-wrap>≥ 1.023      </span></td><td><span style=white-space:pre-wrap>&lt; 0  </span></td><td>notckd</td><td>0</td><td><span style=white-space:pre-wrap>&lt; 0  </span></td><td>0</td><td>0</td><td>0</td><td>⋯</td><td>0</td><td>0</td><td>0</td><td>0</td><td>0</td><td>0</td><td>102.115 - 127.281</td><td>s1</td><td>0</td><td>≥ 74</td></tr>\n",
       "\t<tr><td>1</td><td>1</td><td>1.009 - 1.011</td><td>2 - 2</td><td><span style=white-space:pre-wrap>ckd   </span></td><td>0</td><td>2 - 2</td><td>0</td><td>0</td><td>0</td><td>⋯</td><td>1</td><td>1</td><td>0</td><td>0</td><td>0</td><td>0</td><td><span style=white-space:pre-wrap>&lt; 26.6175        </span></td><td>s4</td><td>1</td><td>≥ 74</td></tr>\n",
       "</tbody>\n",
       "</table>\n"
      ],
      "text/latex": [
       "A spec\\_tbl\\_df: 200 × 29\n",
       "\\begin{tabular}{lllllllllllllllllllll}\n",
       " bp\\_diastolic & bp\\_limit & sg & al & class & rbc & su & pc & pcc & ba & ⋯ & htn & dm & cad & appet & pe & ane & grf & stage & affected & age\\\\\n",
       " <dbl> & <dbl> & <chr> & <chr> & <chr> & <dbl> & <chr> & <dbl> & <dbl> & <dbl> & ⋯ & <dbl> & <dbl> & <dbl> & <dbl> & <dbl> & <dbl> & <chr> & <chr> & <dbl> & <chr>\\\\\n",
       "\\hline\n",
       "\t 0 & 0 & 1.019 - 1.021 & 1 - 1 & ckd & 0 & < 0 & 0 & 0 & 0 & ⋯ & 0 & 0 & 0 & 0 & 0 & 0 & ≥ 227.944         & s1 & 1 & < 12\\\\\n",
       "\t 0 & 0 & 1.009 - 1.011 & < 0   & ckd & 0 & < 0 & 0 & 0 & 0 & ⋯ & 0 & 0 & 0 & 0 & 0 & 0 & ≥ 227.944         & s1 & 1 & < 12\\\\\n",
       "\t 0 & 0 & 1.009 - 1.011 & ≥ 4   & ckd & 1 & < 0 & 1 & 0 & 1 & ⋯ & 0 & 0 & 0 & 1 & 0 & 0 & 127.281 - 152.446 & s1 & 1 & < 12\\\\\n",
       "\t ⋮ & ⋮ & ⋮ & ⋮ & ⋮ & ⋮ & ⋮ & ⋮ & ⋮ & ⋮ & ⋱ & ⋮ & ⋮ & ⋮ & ⋮ & ⋮ & ⋮ & ⋮ & ⋮ & ⋮ & ⋮\\\\\n",
       "\t 1 & 1 & ≥ 1.023       & < 0   & notckd & 0 & < 0   & 0 & 0 & 0 & ⋯ & 0 & 0 & 0 & 0 & 0 & 0 & 51.7832 - 76.949  & s2 & 0 & ≥ 74\\\\\n",
       "\t 1 & 1 & ≥ 1.023       & < 0   & notckd & 0 & < 0   & 0 & 0 & 0 & ⋯ & 0 & 0 & 0 & 0 & 0 & 0 & 102.115 - 127.281 & s1 & 0 & ≥ 74\\\\\n",
       "\t 1 & 1 & 1.009 - 1.011 & 2 - 2 & ckd    & 0 & 2 - 2 & 0 & 0 & 0 & ⋯ & 1 & 1 & 0 & 0 & 0 & 0 & < 26.6175         & s4 & 1 & ≥ 74\\\\\n",
       "\\end{tabular}\n"
      ],
      "text/markdown": [
       "\n",
       "A spec_tbl_df: 200 × 29\n",
       "\n",
       "| bp_diastolic &lt;dbl&gt; | bp_limit &lt;dbl&gt; | sg &lt;chr&gt; | al &lt;chr&gt; | class &lt;chr&gt; | rbc &lt;dbl&gt; | su &lt;chr&gt; | pc &lt;dbl&gt; | pcc &lt;dbl&gt; | ba &lt;dbl&gt; | ⋯ ⋯ | htn &lt;dbl&gt; | dm &lt;dbl&gt; | cad &lt;dbl&gt; | appet &lt;dbl&gt; | pe &lt;dbl&gt; | ane &lt;dbl&gt; | grf &lt;chr&gt; | stage &lt;chr&gt; | affected &lt;dbl&gt; | age &lt;chr&gt; |\n",
       "|---|---|---|---|---|---|---|---|---|---|---|---|---|---|---|---|---|---|---|---|---|\n",
       "| 0 | 0 | 1.019 - 1.021 | 1 - 1 | ckd | 0 | &lt; 0 | 0 | 0 | 0 | ⋯ | 0 | 0 | 0 | 0 | 0 | 0 | ≥ 227.944         | s1 | 1 | &lt; 12 |\n",
       "| 0 | 0 | 1.009 - 1.011 | &lt; 0   | ckd | 0 | &lt; 0 | 0 | 0 | 0 | ⋯ | 0 | 0 | 0 | 0 | 0 | 0 | ≥ 227.944         | s1 | 1 | &lt; 12 |\n",
       "| 0 | 0 | 1.009 - 1.011 | ≥ 4   | ckd | 1 | &lt; 0 | 1 | 0 | 1 | ⋯ | 0 | 0 | 0 | 1 | 0 | 0 | 127.281 - 152.446 | s1 | 1 | &lt; 12 |\n",
       "| ⋮ | ⋮ | ⋮ | ⋮ | ⋮ | ⋮ | ⋮ | ⋮ | ⋮ | ⋮ | ⋱ | ⋮ | ⋮ | ⋮ | ⋮ | ⋮ | ⋮ | ⋮ | ⋮ | ⋮ | ⋮ |\n",
       "| 1 | 1 | ≥ 1.023       | &lt; 0   | notckd | 0 | &lt; 0   | 0 | 0 | 0 | ⋯ | 0 | 0 | 0 | 0 | 0 | 0 | 51.7832 - 76.949  | s2 | 0 | ≥ 74 |\n",
       "| 1 | 1 | ≥ 1.023       | &lt; 0   | notckd | 0 | &lt; 0   | 0 | 0 | 0 | ⋯ | 0 | 0 | 0 | 0 | 0 | 0 | 102.115 - 127.281 | s1 | 0 | ≥ 74 |\n",
       "| 1 | 1 | 1.009 - 1.011 | 2 - 2 | ckd    | 0 | 2 - 2 | 0 | 0 | 0 | ⋯ | 1 | 1 | 0 | 0 | 0 | 0 | &lt; 26.6175         | s4 | 1 | ≥ 74 |\n",
       "\n"
      ],
      "text/plain": [
       "    bp_diastolic bp_limit sg            al    class  rbc su    pc pcc ba ⋯ htn\n",
       "1   0            0        1.019 - 1.021 1 - 1 ckd    0   < 0   0  0   0  ⋯ 0  \n",
       "2   0            0        1.009 - 1.011 < 0   ckd    0   < 0   0  0   0  ⋯ 0  \n",
       "3   0            0        1.009 - 1.011 ≥ 4   ckd    1   < 0   1  0   1  ⋯ 0  \n",
       "⋮   ⋮            ⋮        ⋮             ⋮     ⋮      ⋮   ⋮     ⋮  ⋮   ⋮  ⋱ ⋮  \n",
       "198 1            1        ≥ 1.023       < 0   notckd 0   < 0   0  0   0  ⋯ 0  \n",
       "199 1            1        ≥ 1.023       < 0   notckd 0   < 0   0  0   0  ⋯ 0  \n",
       "200 1            1        1.009 - 1.011 2 - 2 ckd    0   2 - 2 0  0   0  ⋯ 1  \n",
       "    dm cad appet pe ane grf               stage affected age \n",
       "1   0  0   0     0  0   ≥ 227.944         s1    1        < 12\n",
       "2   0  0   0     0  0   ≥ 227.944         s1    1        < 12\n",
       "3   0  0   1     0  0   127.281 - 152.446 s1    1        < 12\n",
       "⋮   ⋮  ⋮   ⋮     ⋮  ⋮   ⋮                 ⋮     ⋮        ⋮   \n",
       "198 0  0   0     0  0   51.7832 - 76.949  s2    0        ≥ 74\n",
       "199 0  0   0     0  0   102.115 - 127.281 s1    0        ≥ 74\n",
       "200 1  0   0     0  0   < 26.6175         s4    1        ≥ 74"
      ]
     },
     "metadata": {},
     "output_type": "display_data"
    },
    {
     "name": "stderr",
     "output_type": "stream",
     "text": [
      "`stat_bin()` using `bins = 30`. Pick better value with `binwidth`.\n",
      "\n"
     ]
    },
    {
     "data": {
      "image/png": "[encoded data removed]",
      "text/plain": [
       "plot without title"
      ]
     },
     "metadata": {
      "image/png": {
       "height": 420,
       "width": 420
      }
     },
     "output_type": "display_data"
    }
   ],
   "source": [
    "ckd_data_unnamed <- read_csv(\"ckd-dataset.csv\", skip = 3, col_names = FALSE)\n",
    "\n",
    "ckd_data <- rename(ckd_data_unnamed,\n",
    "                   bp_diastolic = X1, \n",
    "                   bp_limit = X2, \n",
    "                   sg = X3,\n",
    "                   al = X4, \n",
    "                   class = X5, \n",
    "                   rbc = X6,\n",
    "                   su = X7,\n",
    "                   pc = X8,\n",
    "                   pcc = X9,\n",
    "                   ba = X10,\n",
    "                   bgr = X11, \n",
    "                   bu = X12,\n",
    "                   sod = X13, \n",
    "                   sc = X14, \n",
    "                   pot = X15,\n",
    "                   hemo = X16,\n",
    "                   pcv = X17,\n",
    "                   rbcc = X18,\n",
    "                   wbcc = X19,\n",
    "                   htn = X20,\n",
    "                   dm = X21,\n",
    "                   cad = X22,\n",
    "                   appet = X23,\n",
    "                   pe = X24,\n",
    "                   ane = X25,\n",
    "                   grf = X26,\n",
    "                   stage = X27,\n",
    "                   affected = X28,\n",
    "                   age = X29)\n",
    "                \n",
    "                   \n",
    "ckd_data\n",
    "\n",
    "\n",
    "bar_plot <- ckd_data |>\n",
    "   ggplot(aes(x = affected, fill = age)) + \n",
    "   geom_histogram(position = 'identity') + \n",
    "   xlab(\"affected\") +\n",
    "   ylab(\"age\") \n",
    "bar_plot\n",
    "\n",
    "\n"
   ]
  },
  {
   "cell_type": "code",
   "execution_count": null,
   "id": "3b4ebdb9-b98d-4d05-b0cf-42f76e71e6cb",
   "metadata": {},
   "outputs": [],
   "source": []
  },
  {
   "cell_type": "code",
   "execution_count": null,
   "id": "c2af0d0c-fe9d-4ffd-8491-68a574a988f9",
   "metadata": {},
   "outputs": [],
   "source": []
  }
 ],
 "metadata": {
  "kernelspec": {
   "display_name": "R",
   "language": "R",
   "name": "ir"
  },
  "language_info": {
   "codemirror_mode": "r",
   "file_extension": ".r",
   "mimetype": "text/x-r-source",
   "name": "R",
   "pygments_lexer": "r",
   "version": "4.1.3"
  }
 },
 "nbformat": 4,
 "nbformat_minor": 5
}
